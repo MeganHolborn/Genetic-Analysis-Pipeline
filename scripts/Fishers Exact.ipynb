{
 "cells": [
  {
   "cell_type": "markdown",
   "metadata": {},
   "source": [
    "# Bonferroni corrected Fisher's exact test\n",
    "\n",
    "In this notebook, we will be performing a Fisher's exact test with Bonferroni correction to determine if there is a significant difference in allele frequencies between population groups."
   ]
  },
  {
   "cell_type": "code",
   "execution_count": 2,
   "metadata": {},
   "outputs": [],
   "source": [
    "import pandas as pd\n",
    "import statsmodels.api as sm\n",
    "import numpy as np\n",
    "import scipy as sci\n",
    "\n",
    "# Import UCSC Canonical Transcripts file:\n",
    "canon = pd.read_csv(\"../rawData/canonical.txt\", sep=\"\\t\")"
   ]
  },
  {
   "cell_type": "code",
   "execution_count": 3,
   "metadata": {
    "pycharm": {
     "name": "#%%\n"
    },
    "tags": []
   },
   "outputs": [],
   "source": [
    "def vep_read (geneDict):\n",
    "    \"\"\"Imports E! Ensembl Variant Effect Prediction files as a Pandas DataFrame.\n",
    "\n",
    "\n",
    "    Parameters:\n",
    "    geneDict (dict): A dict of gene names and filepaths to import.\n",
    "\n",
    "    Returns:\n",
    "    dict:Returns a dict of pandas DataFrames, one per gene.\n",
    "    \"\"\"\n",
    "    dataFrames = dict()\n",
    "    for geneName, vepFile in geneDict.items():\n",
    "        dataFrames[str(geneName)] = pd.read_csv(vepFile, sep='\\t')\n",
    "        dataFrames[str(geneName)] = dataFrames[str(geneName)].join(dataFrames[str(geneName)]['Feature'].str.split(\".\", expand=True)).rename(columns={0: \"Reference Name\", 1: \"Reference Version\", \"#Uploaded_variation\": \"Variant\", \"Existing_variation\": \"Existing Variation\"})\n",
    "        #dataFrames[str(geneName)].set_index('Variant', inplace=True)\n",
    "        dataFrames[str(geneName)]['Variant'] = dataFrames[str(geneName)]['Variant'].str.replace(r'^[0-9]{1,2}:[0-9]+[A-Z]+-[A-Z]+;(rs[0-9]+)$', r'\\1', regex=True)\n",
    "        dataFrames[str(geneName)] = dataFrames[str(geneName)][~dataFrames[str(geneName)].Variant.str.contains(\"<CN\")]\n",
    "        dataFrames[str(geneName)] = pd.merge(left=dataFrames[str(geneName)], right=canon, how=\"inner\", left_on=\"Reference Name\", right_on='hg19.refGene.name')[['Variant', 'Location', 'Existing Variation', 'Consequence', 'Reference Name', 'SOURCE', 'SIFT', 'PolyPhen', 'Condel', 'CADD_PHRED', 'PHENOTYPES']]\n",
    "    return dataFrames\n",
    "\n",
    "\n",
    "def pd_read_fwf (geneDict):\n",
    "    \"\"\"Imports Fixed-Width files as a Pandas DataFrame and performs cleanup, and pivots the table into wide format.\n",
    "\n",
    "\n",
    "    Parameters:\n",
    "    geneDict (dict): A dict of gene names and filepaths to import.\n",
    "\n",
    "    Returns:\n",
    "    dict:Returns a dict of pandas DataFrames, one per gene.\n",
    "    \"\"\"\n",
    "    dataFrames = dict()\n",
    "    for geneName, geneFile in geneDict.items():\n",
    "        listie = list()\n",
    "        rf = open(geneFile)\n",
    "        for row in rf.readlines():\n",
    "            listie.append(row.split())\n",
    "        rf.close()\n",
    "        listie = pd.DataFrame(np.asarray(listie))\n",
    "        listie.columns = listie.iloc[0]\n",
    "        listie = listie[1:]\n",
    "        dataFrames[str(geneName)] = listie\n",
    "\n",
    "        # Clean up naming of variants with both custom names and rsID's.\n",
    "        dataFrames[str(geneName)]['SNP'] = dataFrames[str(geneName)]['SNP'].str.replace(r'^[0-9]{1,2}:[0-9]+[A-Z]+-[A-Z]+;(rs[0-9]+)$', r'\\1', regex=True)\n",
    "\n",
    "        # Strip out copy number variants.\n",
    "        dataFrames[str(geneName)] = dataFrames[str(geneName)][~dataFrames[str(geneName)].SNP.str.contains(r\"<CN[0-9]+>\")].astype({\"MAC\": \"int32\", \"NCHROBS\": \"int32\"})\n",
    "       \n",
    "        # Rename columns\n",
    "        dataFrames[str(geneName)] = dataFrames[str(geneName)].rename(columns={\"MAC\": \"Alternate_OBS\", \"SNP\": \"Variant\", \"A1\": \"Alternate Allele\", \"A2\": \"Reference Allele\"}, errors=\"raise\")\n",
    "        \n",
    "        # Calculate new column for A2 observations (Needed for contingency table later)\n",
    "        dataFrames[str(geneName)]['Reference_OBS'] = dataFrames[str(geneName)].apply(lambda row: row.NCHROBS - row.Alternate_OBS, axis=1)\n",
    "        dataFrames[str(geneName)]['MAF'] = pd.to_numeric(dataFrames[str(geneName)]['MAF'])\n",
    "        dataFrames[str(geneName)]['P Value'] = dataFrames[str(geneName)].apply(lambda row: 0, axis='columns')\n",
    "        dataFrames[str(geneName)][\"Odds Ratio\"] = dataFrames[str(geneName)].apply(lambda row: 0, axis='columns')\n",
    "        dataFrames[str(geneName)] = pd.pivot_table(dataFrames[str(geneName)], index=['Variant', 'Alternate Allele', 'Reference Allele'], columns=['CLST'], values=['Alternate_OBS', 'Reference_OBS', 'MAF', 'P Value', 'Odds Ratio'])\n",
    "    return dataFrames\n",
    "\n",
    "\n",
    "Genes = pd_read_fwf({\"CYP2A6\": \"../Final/SUPER/ALL_CYP2A6_SUPER.frq.strat\", \"CYP2B6\": \"../Final/SUPER/ALL_CYP2B6_SUPER.frq.strat\", \"UGT2B7\": \"../Final/SUPER/ALL_UGT2B7_SUPER.frq.strat\"})\n",
    "VEP = vep_read({\"CYP2A6\": \"../Final/CYP2A6_VEP.txt\", \"CYP2B6\": \"../Final/CYP2B6_VEP.txt\", \"UGT2B7\": \"../Final/UGT2B7_VEP.txt\"})"
   ]
  },
  {
   "cell_type": "code",
   "execution_count": 4,
   "metadata": {},
   "outputs": [
    {
     "output_type": "display_data",
     "data": {
      "text/plain": "CLST         Variant Alternate Allele Reference Allele      AFR      AMR  \\\n0     19:41349573T-C                C                T  0.06250  0.00000   \n1     19:41349640C-G                G                C  0.27600  0.43370   \n2     19:41349906T-G                G                T  0.25000  0.00000   \n3     19:41349912T-G                G                T  0.06250  0.00000   \n4     19:41352497C-G                G                C  0.06250  0.00000   \n..               ...              ...              ...      ...      ...   \n386        rs8192723                T                C  0.00000  0.00000   \n387        rs8192726                A                C  0.08169  0.04323   \n388        rs8192728                T                G  0.01210  0.00000   \n389        rs8192729                T                C  0.08419  0.02450   \n390        rs8192733                C                G  0.27960  0.55040   \n\nCLST       EAS      EUR      SAS  \n0     0.000000  0.00000  0.00000  \n1     0.426600  0.57850  0.58690  \n2     0.000000  0.00000  0.00000  \n3     0.000000  0.00000  0.00000  \n4     0.000000  0.00000  0.00000  \n..         ...      ...      ...  \n386   0.000992  0.00000  0.00000  \n387   0.179600  0.06859  0.13090  \n388   0.116100  0.00000  0.02965  \n389   0.030750  0.08350  0.05521  \n390   0.562500  0.51390  0.43660  \n\n[391 rows x 8 columns]",
      "text/html": "<div>\n<style scoped>\n    .dataframe tbody tr th:only-of-type {\n        vertical-align: middle;\n    }\n\n    .dataframe tbody tr th {\n        vertical-align: top;\n    }\n\n    .dataframe thead th {\n        text-align: right;\n    }\n</style>\n<table border=\"1\" class=\"dataframe\">\n  <thead>\n    <tr style=\"text-align: right;\">\n      <th>CLST</th>\n      <th>Variant</th>\n      <th>Alternate Allele</th>\n      <th>Reference Allele</th>\n      <th>AFR</th>\n      <th>AMR</th>\n      <th>EAS</th>\n      <th>EUR</th>\n      <th>SAS</th>\n    </tr>\n  </thead>\n  <tbody>\n    <tr>\n      <th>0</th>\n      <td>19:41349573T-C</td>\n      <td>C</td>\n      <td>T</td>\n      <td>0.06250</td>\n      <td>0.00000</td>\n      <td>0.000000</td>\n      <td>0.00000</td>\n      <td>0.00000</td>\n    </tr>\n    <tr>\n      <th>1</th>\n      <td>19:41349640C-G</td>\n      <td>G</td>\n      <td>C</td>\n      <td>0.27600</td>\n      <td>0.43370</td>\n      <td>0.426600</td>\n      <td>0.57850</td>\n      <td>0.58690</td>\n    </tr>\n    <tr>\n      <th>2</th>\n      <td>19:41349906T-G</td>\n      <td>G</td>\n      <td>T</td>\n      <td>0.25000</td>\n      <td>0.00000</td>\n      <td>0.000000</td>\n      <td>0.00000</td>\n      <td>0.00000</td>\n    </tr>\n    <tr>\n      <th>3</th>\n      <td>19:41349912T-G</td>\n      <td>G</td>\n      <td>T</td>\n      <td>0.06250</td>\n      <td>0.00000</td>\n      <td>0.000000</td>\n      <td>0.00000</td>\n      <td>0.00000</td>\n    </tr>\n    <tr>\n      <th>4</th>\n      <td>19:41352497C-G</td>\n      <td>G</td>\n      <td>C</td>\n      <td>0.06250</td>\n      <td>0.00000</td>\n      <td>0.000000</td>\n      <td>0.00000</td>\n      <td>0.00000</td>\n    </tr>\n    <tr>\n      <th>...</th>\n      <td>...</td>\n      <td>...</td>\n      <td>...</td>\n      <td>...</td>\n      <td>...</td>\n      <td>...</td>\n      <td>...</td>\n      <td>...</td>\n    </tr>\n    <tr>\n      <th>386</th>\n      <td>rs8192723</td>\n      <td>T</td>\n      <td>C</td>\n      <td>0.00000</td>\n      <td>0.00000</td>\n      <td>0.000992</td>\n      <td>0.00000</td>\n      <td>0.00000</td>\n    </tr>\n    <tr>\n      <th>387</th>\n      <td>rs8192726</td>\n      <td>A</td>\n      <td>C</td>\n      <td>0.08169</td>\n      <td>0.04323</td>\n      <td>0.179600</td>\n      <td>0.06859</td>\n      <td>0.13090</td>\n    </tr>\n    <tr>\n      <th>388</th>\n      <td>rs8192728</td>\n      <td>T</td>\n      <td>G</td>\n      <td>0.01210</td>\n      <td>0.00000</td>\n      <td>0.116100</td>\n      <td>0.00000</td>\n      <td>0.02965</td>\n    </tr>\n    <tr>\n      <th>389</th>\n      <td>rs8192729</td>\n      <td>T</td>\n      <td>C</td>\n      <td>0.08419</td>\n      <td>0.02450</td>\n      <td>0.030750</td>\n      <td>0.08350</td>\n      <td>0.05521</td>\n    </tr>\n    <tr>\n      <th>390</th>\n      <td>rs8192733</td>\n      <td>C</td>\n      <td>G</td>\n      <td>0.27960</td>\n      <td>0.55040</td>\n      <td>0.562500</td>\n      <td>0.51390</td>\n      <td>0.43660</td>\n    </tr>\n  </tbody>\n</table>\n<p>391 rows × 8 columns</p>\n</div>"
     },
     "metadata": {}
    }
   ],
   "source": [
    "display(Genes[\"CYP2A6\"]['MAF'].reset_index())"
   ]
  },
  {
   "cell_type": "code",
   "execution_count": 5,
   "outputs": [],
   "source": [
    "SupTable = dict()\n",
    "\n",
    "for gene in Genes:\n",
    "    SupTable[str(gene)] = pd.merge(\n",
    "        right=Genes[str(gene)]['MAF'].reset_index(),\n",
    "        left=VEP[str(gene)], \n",
    "        how=\"outer\", \n",
    "        right_on='Variant', \n",
    "        left_on='Variant'\n",
    "    )[['Variant', 'Location', 'Reference Allele', 'Alternate Allele', 'Existing Variation', 'Consequence', 'Reference Name', 'SOURCE', 'SIFT', 'PolyPhen', 'Condel', 'CADD_PHRED', 'PHENOTYPES', 'AFR', 'AMR', 'EUR', 'EAS', 'SAS']]\n",
    "\n",
    "#display(Genes['CYP2A6']['MAF'].stack(0).reset_index(level=1))\n",
    "#SupTable['CYP2A6'] = VEP['CYP2A6'].join(Genes['CYP2A6']['MAF'].stack(0).reset_index(level=1), on='Variant')"
   ],
   "metadata": {
    "collapsed": false,
    "pycharm": {
     "name": "#%%\n"
    }
   }
  },
  {
   "cell_type": "code",
   "execution_count": 6,
   "outputs": [
    {
     "output_type": "display_data",
     "data": {
      "text/plain": "         Variant              Location Reference Allele Alternate Allele  \\\n0     rs72549453  19:40843438-40843438                T                C   \n1    rs146895354  19:40843446-40843446                C                G   \n2    rs569152950  19:40843552-40843552                G                A   \n3    rs192752442  19:40843567-40843567                C                G   \n4    rs558177610  19:40843603-40843603                C                T   \n..           ...                   ...              ...              ...   \n388  rs201793905  19:40850453-40850453                C                T   \n389   rs28399433  19:40850474-40850474                A                C   \n390  rs528755675  19:40850518-40850518                T                C   \n391  rs547290288  19:40850520-40850520                C                T   \n392  rs183167151  19:40850537-40850537                A                G   \n\n      Existing Variation              Consequence Reference Name  SOURCE SIFT  \\\n0             rs72549453  downstream_gene_variant      NM_000762  RefSeq    -   \n1            rs146895354  downstream_gene_variant      NM_000762  RefSeq    -   \n2            rs569152950      3_prime_UTR_variant      NM_000762  RefSeq    -   \n3            rs192752442      3_prime_UTR_variant      NM_000762  RefSeq    -   \n4            rs558177610      3_prime_UTR_variant      NM_000762  RefSeq    -   \n..                   ...                      ...            ...     ...  ...   \n388          rs201793905    upstream_gene_variant      NM_000762  RefSeq    -   \n389  rs28399433,CR015160    upstream_gene_variant      NM_000762  RefSeq    -   \n390          rs528755675    upstream_gene_variant      NM_000762  RefSeq    -   \n391          rs547290288    upstream_gene_variant      NM_000762  RefSeq    -   \n392          rs183167151    upstream_gene_variant      NM_000762  RefSeq    -   \n\n    PolyPhen Condel CADD_PHRED  \\\n0          -      -      0.539   \n1          -      -      5.910   \n2          -      -      7.991   \n3          -      -      6.913   \n4          -      -      7.442   \n..       ...    ...        ...   \n388        -      -      0.022   \n389        -      -      16.85   \n390        -      -      2.089   \n391        -      -      0.834   \n392        -      -      0.329   \n\n                                            PHENOTYPES       AFR       AMR  \\\n0                                                    -  0.000756  0.002882   \n1                                                    -  0.000000  0.000000   \n2    COUMARIN_RESISTANCE+MIM_morbid+ENSG00000255974...  0.000000  0.000000   \n3                                                    -  0.000000  0.001441   \n4                                                    -  0.000000  0.000000   \n..                                                 ...       ...       ...   \n388                                                  -  0.000000  0.000000   \n389                                                  -  0.082450  0.099420   \n390                                                  -  0.000000  0.000000   \n391                                                  -  0.000000  0.000000   \n392                                                  -  0.000000  0.002882   \n\n          EUR       EAS       SAS  \n0    0.013920  0.000992  0.009202  \n1    0.000000  0.001984  0.000000  \n2    0.000000  0.000992  0.000000  \n3    0.003976  0.000000  0.000000  \n4    0.000994  0.000000  0.000000  \n..        ...       ...       ...  \n388  0.000000  0.001984  0.000000  \n389  0.071570  0.239100  0.154400  \n390  0.000994  0.000000  0.000000  \n391  0.000994  0.000000  0.000000  \n392  0.000000  0.000000  0.000000  \n\n[393 rows x 18 columns]",
      "text/html": "<div>\n<style scoped>\n    .dataframe tbody tr th:only-of-type {\n        vertical-align: middle;\n    }\n\n    .dataframe tbody tr th {\n        vertical-align: top;\n    }\n\n    .dataframe thead th {\n        text-align: right;\n    }\n</style>\n<table border=\"1\" class=\"dataframe\">\n  <thead>\n    <tr style=\"text-align: right;\">\n      <th></th>\n      <th>Variant</th>\n      <th>Location</th>\n      <th>Reference Allele</th>\n      <th>Alternate Allele</th>\n      <th>Existing Variation</th>\n      <th>Consequence</th>\n      <th>Reference Name</th>\n      <th>SOURCE</th>\n      <th>SIFT</th>\n      <th>PolyPhen</th>\n      <th>Condel</th>\n      <th>CADD_PHRED</th>\n      <th>PHENOTYPES</th>\n      <th>AFR</th>\n      <th>AMR</th>\n      <th>EUR</th>\n      <th>EAS</th>\n      <th>SAS</th>\n    </tr>\n  </thead>\n  <tbody>\n    <tr>\n      <th>0</th>\n      <td>rs72549453</td>\n      <td>19:40843438-40843438</td>\n      <td>T</td>\n      <td>C</td>\n      <td>rs72549453</td>\n      <td>downstream_gene_variant</td>\n      <td>NM_000762</td>\n      <td>RefSeq</td>\n      <td>-</td>\n      <td>-</td>\n      <td>-</td>\n      <td>0.539</td>\n      <td>-</td>\n      <td>0.000756</td>\n      <td>0.002882</td>\n      <td>0.013920</td>\n      <td>0.000992</td>\n      <td>0.009202</td>\n    </tr>\n    <tr>\n      <th>1</th>\n      <td>rs146895354</td>\n      <td>19:40843446-40843446</td>\n      <td>C</td>\n      <td>G</td>\n      <td>rs146895354</td>\n      <td>downstream_gene_variant</td>\n      <td>NM_000762</td>\n      <td>RefSeq</td>\n      <td>-</td>\n      <td>-</td>\n      <td>-</td>\n      <td>5.910</td>\n      <td>-</td>\n      <td>0.000000</td>\n      <td>0.000000</td>\n      <td>0.000000</td>\n      <td>0.001984</td>\n      <td>0.000000</td>\n    </tr>\n    <tr>\n      <th>2</th>\n      <td>rs569152950</td>\n      <td>19:40843552-40843552</td>\n      <td>G</td>\n      <td>A</td>\n      <td>rs569152950</td>\n      <td>3_prime_UTR_variant</td>\n      <td>NM_000762</td>\n      <td>RefSeq</td>\n      <td>-</td>\n      <td>-</td>\n      <td>-</td>\n      <td>7.991</td>\n      <td>COUMARIN_RESISTANCE+MIM_morbid+ENSG00000255974...</td>\n      <td>0.000000</td>\n      <td>0.000000</td>\n      <td>0.000000</td>\n      <td>0.000992</td>\n      <td>0.000000</td>\n    </tr>\n    <tr>\n      <th>3</th>\n      <td>rs192752442</td>\n      <td>19:40843567-40843567</td>\n      <td>C</td>\n      <td>G</td>\n      <td>rs192752442</td>\n      <td>3_prime_UTR_variant</td>\n      <td>NM_000762</td>\n      <td>RefSeq</td>\n      <td>-</td>\n      <td>-</td>\n      <td>-</td>\n      <td>6.913</td>\n      <td>-</td>\n      <td>0.000000</td>\n      <td>0.001441</td>\n      <td>0.003976</td>\n      <td>0.000000</td>\n      <td>0.000000</td>\n    </tr>\n    <tr>\n      <th>4</th>\n      <td>rs558177610</td>\n      <td>19:40843603-40843603</td>\n      <td>C</td>\n      <td>T</td>\n      <td>rs558177610</td>\n      <td>3_prime_UTR_variant</td>\n      <td>NM_000762</td>\n      <td>RefSeq</td>\n      <td>-</td>\n      <td>-</td>\n      <td>-</td>\n      <td>7.442</td>\n      <td>-</td>\n      <td>0.000000</td>\n      <td>0.000000</td>\n      <td>0.000994</td>\n      <td>0.000000</td>\n      <td>0.000000</td>\n    </tr>\n    <tr>\n      <th>...</th>\n      <td>...</td>\n      <td>...</td>\n      <td>...</td>\n      <td>...</td>\n      <td>...</td>\n      <td>...</td>\n      <td>...</td>\n      <td>...</td>\n      <td>...</td>\n      <td>...</td>\n      <td>...</td>\n      <td>...</td>\n      <td>...</td>\n      <td>...</td>\n      <td>...</td>\n      <td>...</td>\n      <td>...</td>\n      <td>...</td>\n    </tr>\n    <tr>\n      <th>388</th>\n      <td>rs201793905</td>\n      <td>19:40850453-40850453</td>\n      <td>C</td>\n      <td>T</td>\n      <td>rs201793905</td>\n      <td>upstream_gene_variant</td>\n      <td>NM_000762</td>\n      <td>RefSeq</td>\n      <td>-</td>\n      <td>-</td>\n      <td>-</td>\n      <td>0.022</td>\n      <td>-</td>\n      <td>0.000000</td>\n      <td>0.000000</td>\n      <td>0.000000</td>\n      <td>0.001984</td>\n      <td>0.000000</td>\n    </tr>\n    <tr>\n      <th>389</th>\n      <td>rs28399433</td>\n      <td>19:40850474-40850474</td>\n      <td>A</td>\n      <td>C</td>\n      <td>rs28399433,CR015160</td>\n      <td>upstream_gene_variant</td>\n      <td>NM_000762</td>\n      <td>RefSeq</td>\n      <td>-</td>\n      <td>-</td>\n      <td>-</td>\n      <td>16.85</td>\n      <td>-</td>\n      <td>0.082450</td>\n      <td>0.099420</td>\n      <td>0.071570</td>\n      <td>0.239100</td>\n      <td>0.154400</td>\n    </tr>\n    <tr>\n      <th>390</th>\n      <td>rs528755675</td>\n      <td>19:40850518-40850518</td>\n      <td>T</td>\n      <td>C</td>\n      <td>rs528755675</td>\n      <td>upstream_gene_variant</td>\n      <td>NM_000762</td>\n      <td>RefSeq</td>\n      <td>-</td>\n      <td>-</td>\n      <td>-</td>\n      <td>2.089</td>\n      <td>-</td>\n      <td>0.000000</td>\n      <td>0.000000</td>\n      <td>0.000994</td>\n      <td>0.000000</td>\n      <td>0.000000</td>\n    </tr>\n    <tr>\n      <th>391</th>\n      <td>rs547290288</td>\n      <td>19:40850520-40850520</td>\n      <td>C</td>\n      <td>T</td>\n      <td>rs547290288</td>\n      <td>upstream_gene_variant</td>\n      <td>NM_000762</td>\n      <td>RefSeq</td>\n      <td>-</td>\n      <td>-</td>\n      <td>-</td>\n      <td>0.834</td>\n      <td>-</td>\n      <td>0.000000</td>\n      <td>0.000000</td>\n      <td>0.000994</td>\n      <td>0.000000</td>\n      <td>0.000000</td>\n    </tr>\n    <tr>\n      <th>392</th>\n      <td>rs183167151</td>\n      <td>19:40850537-40850537</td>\n      <td>A</td>\n      <td>G</td>\n      <td>rs183167151</td>\n      <td>upstream_gene_variant</td>\n      <td>NM_000762</td>\n      <td>RefSeq</td>\n      <td>-</td>\n      <td>-</td>\n      <td>-</td>\n      <td>0.329</td>\n      <td>-</td>\n      <td>0.000000</td>\n      <td>0.002882</td>\n      <td>0.000000</td>\n      <td>0.000000</td>\n      <td>0.000000</td>\n    </tr>\n  </tbody>\n</table>\n<p>393 rows × 18 columns</p>\n</div>"
     },
     "metadata": {}
    }
   ],
   "source": [
    "display(SupTable['CYP2A6'])\n",
    "# Strip erroneously named variants:\n",
    "#CYP2A6['SNP'] = CYP2A6['SNP'].str.replace(r'^[0-9]{1,2}:[0-9]+[A-Z]+-[A-Z]+;(rs[0-9]+)$', r'\\1', regex=True)\n",
    "#CYP2B6['SNP'] = CYP2B6['SNP'].str.replace(r'^[0-9]{1,2}:[0-9]+[A-Z]+-[A-Z]+;(rs[0-9]+)$', r'\\1', regex=True)\n",
    "#UGT2B7['SNP'] = UGT2B7['SNP'].str.replace(r'^[0-9]{1,2}:[0-9]+[A-Z]+-[A-Z]+;(rs[0-9]+)$', r'\\1', regex=True)\n",
    "\n",
    "#CYP2A6.to_excel(\"text.xlsx\")\n",
    "#Genes['CYP2A6'] = Genes['CYP2A6'][['SNP', 'A1_OBS', 'A2_OBS', 'CLST']].melt(id_vars=['SNP', 'CLST'], var_name='Alleles', value_name='Observations')"
   ],
   "metadata": {
    "collapsed": false,
    "pycharm": {
     "name": "#%%\n"
    }
   }
  },
  {
   "cell_type": "code",
   "execution_count": 7,
   "outputs": [],
   "source": [
    "def Fishers (dataframe, refPop, compPop):\n",
    "    \"\"\"Runs a row-wise Fisher's Exact Test between the two listed populations\n",
    "\n",
    "\n",
    "    Parameters:\n",
    "    dataframe (dict): A dict of DataFrames to work on.\n",
    "    pop1 (str): A str matching a column name in each dataset corresponding to that populations frequency data. \n",
    "    compPop (list): A str matching a column name in each dataset corresponding to that populations frequency data.\n",
    "\n",
    "    Returns:\n",
    "    dict:Returns a dict of pandas DataFrames, one per gene.\n",
    "    \"\"\"\n",
    "    def row_wise_fishers(row, referencePop, comparisonPop):\n",
    "        data = {\n",
    "            str(refPop): [row['Reference_OBS'][str(refPop)], row['Alternate_OBS'][str(referencePop)]],\n",
    "            str(comparisonPop): [row['Reference_OBS'][str(comparisonPop)], row['Alternate_OBS'][str(comparisonPop)]]\n",
    "        }\n",
    "        index=['Reference Allele', \"Alternate Allele\"]\n",
    "        dataFrame = pd.DataFrame(data, index=index)\n",
    "        return sci.stats.fisher_exact(dataFrame)\n",
    "        \n",
    "\n",
    "    columns = list()\n",
    "    columns.append('Variant')\n",
    "    rstData = dataframe.reset_index()\n",
    "    for pop in compPop:\n",
    "        oddsLabel = str(refPop) + \"_OR_\" + str(pop)\n",
    "        pLabel = str(refPop) + \"_P_\" + str(pop)\n",
    "        rstData[oddsLabel], rstData[pLabel] = zip(*rstData.apply(lambda row: row_wise_fishers(row, refPop, pop), axis='columns'))\n",
    "\n",
    "        columns.append(oddsLabel)\n",
    "        columns.append(pLabel)\n",
    "\n",
    "    return rstData[columns].stack().droplevel('CLST')"
   ],
   "metadata": {
    "collapsed": false,
    "pycharm": {
     "name": "#%%\n"
    }
   }
  },
  {
   "cell_type": "code",
   "execution_count": 8,
   "outputs": [],
   "source": [
    "wenis = Fishers(Genes['CYP2A6'], \"AFR\", [\"EUR\", 'AMR', 'EAS', \"SAS\"])"
   ],
   "metadata": {
    "collapsed": false,
    "pycharm": {
     "name": "#%%\n"
    }
   }
  },
  {
   "cell_type": "code",
   "execution_count": 9,
   "outputs": [
    {
     "data": {
      "text/plain": "0    AFR_OR_AMR  AFR_OR_EAS  AFR_OR_EUR  AFR_OR_SAS     AFR_P_AMR  \\\n0           NaN         NaN         NaN         NaN  1.000000e+00   \n1      2.009226    1.951621    3.600908    3.727224  1.085330e-12   \n2           NaN         NaN         NaN         NaN  1.000000e+00   \n3           NaN         NaN         NaN         NaN  1.000000e+00   \n4           NaN         NaN         NaN         NaN  1.000000e+00   \n..          ...         ...         ...         ...           ...   \n386         NaN         inf         NaN         NaN  1.000000e+00   \n387    0.507865    2.460186    0.827760    1.692723  1.088472e-03   \n388    0.000000   10.718434    0.000000    2.494336  2.187284e-03   \n389    0.273135    0.345131    0.990981    0.635680  3.072189e-08   \n390    3.155202    3.313316    2.724583    1.997076  7.506923e-33   \n\n0       AFR_P_EAS     AFR_P_EUR     AFR_P_SAS         Variant  \n0    1.000000e+00  1.000000e+00  1.000000e+00  19:41349573T-C  \n1    2.827227e-14  5.134219e-50  1.037685e-51  19:41349640C-G  \n2    1.000000e+00  1.000000e+00  1.000000e+00  19:41349906T-G  \n3    1.000000e+00  1.000000e+00  1.000000e+00  19:41349912T-G  \n4    1.000000e+00  1.000000e+00  1.000000e+00  19:41352497C-G  \n..            ...           ...           ...             ...  \n386  4.326180e-01  1.000000e+00  1.000000e+00       rs8192723  \n387  1.783012e-12  2.691282e-01  1.649831e-04       rs8192726  \n388  2.535064e-28  1.432758e-04  3.451960e-03       rs8192728  \n389  4.868325e-08  1.000000e+00  7.397930e-03       rs8192729  \n390  4.232743e-44  3.151119e-31  3.864980e-15       rs8192733  \n\n[391 rows x 9 columns]",
      "text/html": "<div>\n<style scoped>\n    .dataframe tbody tr th:only-of-type {\n        vertical-align: middle;\n    }\n\n    .dataframe tbody tr th {\n        vertical-align: top;\n    }\n\n    .dataframe thead th {\n        text-align: right;\n    }\n</style>\n<table border=\"1\" class=\"dataframe\">\n  <thead>\n    <tr style=\"text-align: right;\">\n      <th></th>\n      <th>AFR_OR_AMR</th>\n      <th>AFR_OR_EAS</th>\n      <th>AFR_OR_EUR</th>\n      <th>AFR_OR_SAS</th>\n      <th>AFR_P_AMR</th>\n      <th>AFR_P_EAS</th>\n      <th>AFR_P_EUR</th>\n      <th>AFR_P_SAS</th>\n      <th>Variant</th>\n    </tr>\n  </thead>\n  <tbody>\n    <tr>\n      <th>0</th>\n      <td>NaN</td>\n      <td>NaN</td>\n      <td>NaN</td>\n      <td>NaN</td>\n      <td>1.000000e+00</td>\n      <td>1.000000e+00</td>\n      <td>1.000000e+00</td>\n      <td>1.000000e+00</td>\n      <td>19:41349573T-C</td>\n    </tr>\n    <tr>\n      <th>1</th>\n      <td>2.009226</td>\n      <td>1.951621</td>\n      <td>3.600908</td>\n      <td>3.727224</td>\n      <td>1.085330e-12</td>\n      <td>2.827227e-14</td>\n      <td>5.134219e-50</td>\n      <td>1.037685e-51</td>\n      <td>19:41349640C-G</td>\n    </tr>\n    <tr>\n      <th>2</th>\n      <td>NaN</td>\n      <td>NaN</td>\n      <td>NaN</td>\n      <td>NaN</td>\n      <td>1.000000e+00</td>\n      <td>1.000000e+00</td>\n      <td>1.000000e+00</td>\n      <td>1.000000e+00</td>\n      <td>19:41349906T-G</td>\n    </tr>\n    <tr>\n      <th>3</th>\n      <td>NaN</td>\n      <td>NaN</td>\n      <td>NaN</td>\n      <td>NaN</td>\n      <td>1.000000e+00</td>\n      <td>1.000000e+00</td>\n      <td>1.000000e+00</td>\n      <td>1.000000e+00</td>\n      <td>19:41349912T-G</td>\n    </tr>\n    <tr>\n      <th>4</th>\n      <td>NaN</td>\n      <td>NaN</td>\n      <td>NaN</td>\n      <td>NaN</td>\n      <td>1.000000e+00</td>\n      <td>1.000000e+00</td>\n      <td>1.000000e+00</td>\n      <td>1.000000e+00</td>\n      <td>19:41352497C-G</td>\n    </tr>\n    <tr>\n      <th>...</th>\n      <td>...</td>\n      <td>...</td>\n      <td>...</td>\n      <td>...</td>\n      <td>...</td>\n      <td>...</td>\n      <td>...</td>\n      <td>...</td>\n      <td>...</td>\n    </tr>\n    <tr>\n      <th>386</th>\n      <td>NaN</td>\n      <td>inf</td>\n      <td>NaN</td>\n      <td>NaN</td>\n      <td>1.000000e+00</td>\n      <td>4.326180e-01</td>\n      <td>1.000000e+00</td>\n      <td>1.000000e+00</td>\n      <td>rs8192723</td>\n    </tr>\n    <tr>\n      <th>387</th>\n      <td>0.507865</td>\n      <td>2.460186</td>\n      <td>0.827760</td>\n      <td>1.692723</td>\n      <td>1.088472e-03</td>\n      <td>1.783012e-12</td>\n      <td>2.691282e-01</td>\n      <td>1.649831e-04</td>\n      <td>rs8192726</td>\n    </tr>\n    <tr>\n      <th>388</th>\n      <td>0.000000</td>\n      <td>10.718434</td>\n      <td>0.000000</td>\n      <td>2.494336</td>\n      <td>2.187284e-03</td>\n      <td>2.535064e-28</td>\n      <td>1.432758e-04</td>\n      <td>3.451960e-03</td>\n      <td>rs8192728</td>\n    </tr>\n    <tr>\n      <th>389</th>\n      <td>0.273135</td>\n      <td>0.345131</td>\n      <td>0.990981</td>\n      <td>0.635680</td>\n      <td>3.072189e-08</td>\n      <td>4.868325e-08</td>\n      <td>1.000000e+00</td>\n      <td>7.397930e-03</td>\n      <td>rs8192729</td>\n    </tr>\n    <tr>\n      <th>390</th>\n      <td>3.155202</td>\n      <td>3.313316</td>\n      <td>2.724583</td>\n      <td>1.997076</td>\n      <td>7.506923e-33</td>\n      <td>4.232743e-44</td>\n      <td>3.151119e-31</td>\n      <td>3.864980e-15</td>\n      <td>rs8192733</td>\n    </tr>\n  </tbody>\n</table>\n<p>391 rows × 9 columns</p>\n</div>"
     },
     "execution_count": 9,
     "metadata": {},
     "output_type": "execute_result"
    }
   ],
   "source": [
    "wenis\n",
    "#Genes['CYP2A6'].reset_index().set_index('Variant').columns.values#.columns.values"
   ],
   "metadata": {
    "collapsed": false,
    "pycharm": {
     "name": "#%%\n"
    }
   }
  },
  {
   "cell_type": "code",
   "execution_count": 10,
   "outputs": [
    {
     "name": "stdout",
     "output_type": "stream",
     "text": [
      "CYP2A6\n",
      "CYP2B6\n",
      "UGT2B7\n"
     ]
    }
   ],
   "source": [
    "excelFile = pd.ExcelWriter(\"../Final/Supplementary Table.xlsx\")\n",
    "for gene in Genes:\n",
    "    print(gene)\n",
    "    SupTable[str(gene)] = pd.merge(\n",
    "        right=Fishers(Genes[str(gene)], \"AFR\", [\"EUR\", 'AMR', 'EAS', \"SAS\"]),\n",
    "        left=SupTable[str(gene)],\n",
    "        on='Variant'\n",
    "    )\n",
    "    SupTable[str(gene)].to_excel(excelFile, sheet_name=str(gene), index=False)\n",
    "excelFile.save()\n",
    "excelFile.close()\n",
    "\n",
    "#Fishers(Genes['CYP2A6']['MAF'].reset_index(), \"AFR\", \"AMR\")\n",
    "#Fishers(Genes['CYP2A6']['MAF'].reset_index(), \"AFR\", \"EAS\")\n",
    "#Fishers(Genes['CYP2A6']['MAF'].reset_index(), \"AFR\", \"SAS\")\n",
    "\n",
    "#display(Genes['CYP2A6'].loc['rs8192723']['A1_OBS'])\n",
    "\n",
    "#display(Genes['CYP2A6'].loc['rs8192723']['A2_OBS'])\n",
    "\n",
    "\n"
   ],
   "metadata": {
    "collapsed": false,
    "pycharm": {
     "name": "#%%\n"
    }
   }
  }
 ],
 "metadata": {
  "kernelspec": {
   "name": "python3",
   "language": "python",
   "display_name": "Python 3"
  },
  "language_info": {
   "codemirror_mode": {
    "name": "ipython",
    "version": 3
   },
   "file_extension": ".py",
   "mimetype": "text/x-python",
   "name": "python",
   "nbconvert_exporter": "python",
   "pygments_lexer": "ipython3",
   "version": "3.8.6-final"
  },
  "widgets": {
   "application/vnd.jupyter.widget-state+json": {
    "state": {},
    "version_major": 2,
    "version_minor": 0
   }
  }
 },
 "nbformat": 4,
 "nbformat_minor": 2
}