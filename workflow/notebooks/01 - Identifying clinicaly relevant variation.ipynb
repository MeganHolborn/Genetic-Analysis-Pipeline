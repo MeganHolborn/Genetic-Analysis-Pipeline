{
 "cells": [
  {
   "cell_type": "markdown",
   "metadata": {},
   "source": [
    "%%latex\n",
    "\\tableofcontents"
   ]
  },
  {
   "cell_type": "markdown",
   "metadata": {},
   "source": [
    "# Introduction"
   ]
  },
  {
   "cell_type": "markdown",
   "metadata": {},
   "source": [
    "This notebook describes the analysis of data obtained from the [Pharmacogenetics pipeline](https://github.com/Tuks-ICMM/Pharmacogenetic-Analysis-Pipeline). This includes data handeling and filtering of this data using the python package, [`Pandas`](https://pandas.pydata.org/docs/index.html), and the python graphing library [`seaborn`](https://seaborn.pydata.org/).\n",
    "\n",
    "> The data used in this notebook notebook was obtained using [Pharmacogenetic Analysis Pipeline](https://github.com/Tuks-ICMM/Pharmacogenetic-Analysis-Pipeline) as part of a project performed under the [Institute for Cellular and Molecular Medicine](https://www.up.ac.za/institute-for-cellular-and-molecular-medicine). The data describes the following genes:\n",
    "\n",
    "- [CYP2B6](https://www.ensembl.org/Homo_sapiens/Transcript/Summary?db=core;g=ENSG00000197408;r=19:40991282-41018398;t=ENST00000324071)\n",
    "- [CYP2C9](https://www.ensembl.org/Homo_sapiens/Transcript/Summary?db=core;g=ENSG00000138109;r=10:94938658-94990091;t=ENST00000260682)\n",
    "- [CYP2C19](https://www.ensembl.org/Homo_sapiens/Transcript/Summary?db=core;g=ENSG00000165841;r=10:94762681-94855547;t=ENST00000371321)\n",
    "- [CYP2D6](https://www.ensembl.org/Homo_sapiens/Transcript/Summary?db=core;g=ENSG00000100197;r=22:42126499-42130865;t=ENST00000645361)\n",
    "- [CYP4F2](https://www.ensembl.org/Homo_sapiens/Transcript/Summary?db=core;g=ENSG00000186115;r=19:15878023-15898077;t=ENST00000221700)\n",
    "- [VKORC1](https://www.ensembl.org/Homo_sapiens/Transcript/Summary?db=core;g=ENSG00000167397;r=16:31090842-31095980;t=ENST00000394975)\n",
    "- [HLA-A](https://www.ensembl.org/Homo_sapiens/Transcript/Summary?db=core;g=ENSG00000206503;r=6:29941260-29949572;t=ENST00000376809)\n",
    "- HLA-B"
   ]
  },
  {
   "cell_type": "markdown",
   "metadata": {},
   "source": [
    "## Objectives\n",
    "\n",
    "This notebook will focus on the following objectives:\n",
    "\n",
    "- To identify variants of clinical interest, which fullfill the following criteria:\n",
    "    - A missingness of less than or equal to 10%\n",
    "    - Frequency of 2% or higher in any population\n",
    "    - A CADD Phred score of 10 (CADD-10) or higher\n",
    "    - A significantly different frequency between the African population and any other comparison population\n",
    "- To describe the abundance of variants found\n",
    "    - Variants which survive the above filters\n",
    "    - Variants which do not survive the above filters"
   ]
  },
  {
   "cell_type": "markdown",
   "metadata": {},
   "source": [
    "## Notebook Configuration"
   ]
  },
  {
   "cell_type": "markdown",
   "metadata": {},
   "source": [
    "### Dependancies\n",
    "\n",
    "We will be making use of the functions shown below to perform basic data import:"
   ]
  },
  {
   "cell_type": "code",
   "execution_count": 2,
   "metadata": {},
   "outputs": [],
   "source": [
    "from pandas import read_csv, melt, Series\n",
    "from os.path import join\n",
    "from seaborn import barplot, set_theme\n",
    "from matplotlib.pyplot import figure, ylabel, xlabel\n",
    "from plotly.graph_objects import Figure, Waterfall\n",
    "from pathlib import Path\n",
    "from plotly.io import renderers\n",
    "from json import load"
   ]
  },
  {
   "cell_type": "code",
   "execution_count": 3,
   "metadata": {},
   "outputs": [],
   "source": [
    "renderers.default = \"notebook_connected+pdf\""
   ]
  },
  {
   "cell_type": "markdown",
   "metadata": {},
   "source": [
    "This workflow will make use of `input` data files used to perform an analysis using the [Pharmacogenetics Analysis Pipeline](https://github.com/Tuks-ICMM/Pharmacogenetic-Analysis-Pipeline). This will include a `samples.csv` file, which describes all samples included in the analysis, a `locations.csv` file, which describes the gene regions studied, and a `datasets.csv` file which describes the input data used."
   ]
  },
  {
   "cell_type": "code",
   "execution_count": 6,
   "metadata": {},
   "outputs": [
    {
     "data": {
      "text/plain": [
       "'/mnt/ICMM_HDD_12TB/Results_25SEP2024'"
      ]
     },
     "execution_count": 6,
     "metadata": {},
     "output_type": "execute_result"
    }
   ],
   "source": [
    "with open(join(\"config\", \"manifest.json\"), 'r') as config:\n",
    "    config = load(config)\n",
    "\n",
    "path = join(*config[\"output\"])"
   ]
  },
  {
   "cell_type": "code",
   "execution_count": 7,
   "metadata": {},
   "outputs": [],
   "source": [
    "# [ASSIGN] the sample metadata used to conduct the analysis to a reference variable\n",
    "SAMPLES = read_csv(join(\"input\", \"samples.csv\"))\n",
    "\n",
    "# [ASSIGN] the genomic location metadata used to conduct the analysis to a reference variable\n",
    "LOCATIONS = read_csv(join(\"input\", \"locations.csv\"))\n",
    "\n",
    "# [ASSIGN] the dataset metadata used to conduct the analysis to a reference variable\n",
    "DATASETS = read_csv(join(\"input\", \"datasets.csv\"))"
   ]
  },
  {
   "cell_type": "markdown",
   "metadata": {},
   "source": [
    "We will also need to compile a few runtime variables for later use."
   ]
  },
  {
   "cell_type": "code",
   "execution_count": 8,
   "metadata": {},
   "outputs": [],
   "source": [
    "# [ASSIGN] all unique populations found in our sample annotations\n",
    "POPULATIONS_TO_COMPARE = SAMPLES[\"super-population\"].unique().tolist()"
   ]
  },
  {
   "cell_type": "markdown",
   "metadata": {},
   "source": [
    "This analysis will make use of a hirachical index constructed using the chromosome, position, reference allele and alternate allele to present in VCF format, to uniquely identify each record by genomic position and composition. This ensures that we are identifying variants uniquely using biologicaly relevant information."
   ]
  },
  {
   "cell_type": "code",
   "execution_count": 9,
   "metadata": {},
   "outputs": [],
   "source": [
    "# [ASSIGN] the columns that form the multiindex\n",
    "MULTIINDEX = [\"CHROM\", \"POS\", \"REF\", \"ALT\"]"
   ]
  },
  {
   "cell_type": "markdown",
   "metadata": {},
   "source": [
    "Lastly, we will be making use of the output of the [Pharmacogenetic Analysis Pipeline](https://github.com/Tuks-ICMM/Pharmacogenetic-Analysis-Pipeline)."
   ]
  },
  {
   "cell_type": "code",
   "execution_count": 10,
   "metadata": {},
   "outputs": [
    {
     "name": "stdout",
     "output_type": "stream",
     "text": [
      "Record count | CYP2B6 : 1967\n",
      "Record count | CYP2C9 : 2885\n",
      "Record count | CYP2C19 : 6081\n",
      "Record count | CYP2D6 : 435\n",
      "Record count | CYP4F2 : 983\n",
      "Record count | VKORC1 : 187\n",
      "Record count | HLA-A : 614\n",
      "Record count | HLA-B : 6980\n",
      "Total record count | HLA-B : 20132\n"
     ]
    }
   ],
   "source": [
    "DATA = dict()\n",
    "\n",
    "_total = 0\n",
    "\n",
    "# [FOR] each gene in our list of gene regions included in this analysis...\n",
    "for gene in LOCATIONS[\"location_name\"].unique().tolist():\n",
    "\n",
    "    # [ASSIGN] our data to a key within the DATA dictionary\n",
    "    DATA[gene] = read_csv(\n",
    "        join(\n",
    "            \"/\",\n",
    "            \"mnt\",\n",
    "            \"ICMM_HDD_12TB\",\n",
    "            \"Results_25SEP2024\",\n",
    "            \"consolidated_reports\",\n",
    "            f\"super-population_{gene}.csv\",\n",
    "        )\n",
    "    )\n",
    "    print(f\"Record count | {gene} : {DATA[gene].shape[0]}\")\n",
    "    _total += DATA[gene].shape[0]\n",
    "print(f\"Total record count | {gene} : {_total}\")\n",
    "    "
   ]
  },
  {
   "cell_type": "markdown",
   "metadata": {},
   "source": [
    "> Throughout this analysis, we will make use of a python dictionary to store the graphs we will be generating across all of our gene regions. For practicality-sake, the graphing operations will be looped and abstracted to generate plots for all genes."
   ]
  },
  {
   "cell_type": "code",
   "execution_count": 11,
   "metadata": {},
   "outputs": [],
   "source": [
    "# [ASSIGN] houses all plots we will be making\n",
    "PLOT = dict()\n",
    "\n",
    "# [FOR] each gene, create a storage space for any plots generated\n",
    "# (This should use a hirachical storage structure of PLOT[gene][graph])\n",
    "for gene in LOCATIONS[\"location_name\"].unique().tolist():\n",
    "\n",
    "    # [ASSIGN] an empty dictionary to store all plots made for this gene\n",
    "    PLOT[gene] = dict()\n",
    "\n",
    "# [ASSIGN] a generic record to house plots that apply across genes\n",
    "PLOT[None] = dict()"
   ]
  },
  {
   "cell_type": "markdown",
   "metadata": {},
   "source": [
    "### Plot configuration"
   ]
  },
  {
   "cell_type": "code",
   "execution_count": 12,
   "metadata": {},
   "outputs": [],
   "source": [
    "# [CREDIT] for ratio sizes goes to a Bio-render article I found which talks about plot sizes\n",
    "# https://www.biorender.com/blog/why-layout-and-scale-matters-for-graphs\n",
    "set_theme(rc={\"figure.figsize\": (10, 7)}, style=\"ticks\", palette=\"hls\")"
   ]
  },
  {
   "cell_type": "markdown",
   "metadata": {},
   "source": [
    "# Data Cleaning"
   ]
  },
  {
   "cell_type": "markdown",
   "metadata": {},
   "source": [
    "We are primarily interested in understanding the large-scale impllications of clinicaly relevant mutations in a medical setting in South Africa. Due to this, we will be focusing on variants which are found at a frequency of 2% or more, which will be refered to as <ins>alleles of clinical interest</ins>. \n",
    "\n",
    "We will make use of the following criteria to identify these:\n",
    "- Allelic frequency (2%) in at least one or more population studied\n",
    "- Variants with a Significantly different frequency in our reference population in at lelast one population comparison\n"
   ]
  },
  {
   "cell_type": "markdown",
   "metadata": {},
   "source": [
    "Before we start, lets annotate the `LOCATIONS` object to included a summary of the different types of variants that are kept/removed. This will be usefull when trying to understand why variants have been excluded from analysis."
   ]
  },
  {
   "cell_type": "code",
   "execution_count": 13,
   "metadata": {},
   "outputs": [],
   "source": [
    "# [FOR] each gene in our analysis\n",
    "for gene in LOCATIONS[\"location_name\"].unique().tolist():\n",
    "    # [ASSIGN] the total number of variants observed\n",
    "    LOCATIONS.loc[LOCATIONS[\"location_name\"] == gene, \"Total Variants\"] = DATA[gene].shape[0]\n",
    "    # [CALCULATE] gene size"
   ]
  },
  {
   "cell_type": "markdown",
   "metadata": {},
   "source": [
    "## Filter variant missingness"
   ]
  },
  {
   "cell_type": "markdown",
   "metadata": {},
   "source": [
    "VCF files contain a matrix of indexed genotype records/observations, describing the genomic content at all recorded positions for all samples sequenced and joint-called together. This project makes use of three pre-joint-called VCF files, which does raise some data integrity issues, in the form of unavoidable regions of missing data. Some positions within the genome which were variable in one cohort, may not have been recorded in another. This can artificialy alter allele frequencies, and affect any downstream inference we would otherwise make using observations from the affected regions.\n",
    "\n",
    "We would like to exclude variants with high misisngness rates. Thankfully, these have been labeled by the [Pharmacogenetic Analysis Pipeline](https://github.com/Tuks-ICMM/Pharmacogenetic-Analysis-Pipeline) already. Variant 'representativeness' was calculated using a function of the total number of observations and twice the number of samples observed:\n",
    "\n",
    "$$\n",
    "    \\frac{N_{Geno}}{2*N_{s}}*100\n",
    "$$\n",
    "\n",
    "All variants with a missingness lower than 91% have been targeted for removal due to poor representation."
   ]
  },
  {
   "cell_type": "code",
   "execution_count": 14,
   "metadata": {},
   "outputs": [],
   "source": [
    "def calculate_missingness(row: Series, population: str) -> int:\n",
    "    if row[f\"{population}_tc\"] == 0:\n",
    "        return 100\n",
    "    else:\n",
    "        result = (row[f\"{population}_ac\"] / row[f\"{population}_tc\"])*100\n",
    "        return result\n",
    "    "
   ]
  },
  {
   "cell_type": "code",
   "execution_count": 15,
   "metadata": {},
   "outputs": [
    {
     "name": "stdout",
     "output_type": "stream",
     "text": [
      "END | UAE - 1881\n",
      "END | UAE - 2837\n",
      "END | UAE - 5990\n",
      "END | UAE - 428\n",
      "END | UAE - 944\n",
      "END | UAE - 184\n",
      "END | UAE - 489\n",
      "END | UAE - 5148\n"
     ]
    }
   ],
   "source": [
    "# [FOR] each gene included in this analysis...\n",
    "for gene in LOCATIONS[\"location_name\"].unique().tolist():\n",
    "\n",
    "    _variant_missingness_filters = list()\n",
    "\n",
    "    # [FOR] each population we have to compare...\n",
    "    for population in POPULATIONS_TO_COMPARE:\n",
    "        # [ASSIGN] missingness calculation result\n",
    "        DATA[gene][f\"{population}_missingness\"] = DATA[gene].apply(lambda row: calculate_missingness(row, population), axis=1)\n",
    "\n",
    "        # [TALLY] filter expression for variants with missingness below cutoff in this population\n",
    "        _variant_missingness_filters.append(f\"{population}_missingness <= 10\")\n",
    "\n",
    "    # [FILTER] to variants with missingness below cutoff\n",
    "    DATA[gene] = DATA[gene].query(\" | \".join(_variant_missingness_filters))\n",
    "    print(f\"END | {population} - {DATA[gene].shape[0]}\")\n",
    "    \n",
    "    # [ASSIGN] the number of alleles identified after our filter to the LOCATIONS DataFrame\n",
    "    LOCATIONS.loc[LOCATIONS[\"location_name\"] == gene, \"Missingness variants remaining\"] = DATA[\n",
    "        gene\n",
    "    ].shape[0]"
   ]
  },
  {
   "cell_type": "markdown",
   "metadata": {},
   "source": [
    "## Filter frequency cutoff"
   ]
  },
  {
   "cell_type": "markdown",
   "metadata": {},
   "source": [
    "Since this project focuses primarily on variants which are likely to have an impact on prescriptive outcomes in the Sub-Saharan populations, we would like to remove rare variants as these are not likely to affect a large number of individuals and would require much more specialised interventions.\n",
    "\n",
    "We can make use of the `query` function to identify and extract all variants found at a 2% frequency threshold in at least one population."
   ]
  },
  {
   "cell_type": "code",
   "execution_count": 16,
   "metadata": {},
   "outputs": [],
   "source": [
    "# [FOR] each gene in our list of gene regions included in this analysis...\n",
    "for gene in LOCATIONS[\"location_name\"].unique().tolist():\n",
    "    # [COLLECT] a list of population filters that can be passed to the query function\n",
    "    individual_population_filters = list()\n",
    "\n",
    "    # [FOR] each unique population in the list of population annotations available for the samples\n",
    "    for population in POPULATIONS_TO_COMPARE:\n",
    "\n",
    "        # [TALLY] filters which describe variants above or equal to 2% frequency in at least one population studied\n",
    "        individual_population_filters.append(f\"{population} >= 0.02\")\n",
    "\n",
    "    # Remove in-place the data to keep only alleles found at or above 2% frequency\n",
    "    DATA[gene] = DATA[gene].query(\" | \".join(individual_population_filters))\n",
    "\n",
    "    # [ASSIGN] the number of alleles identified after our filter to the LOCATIONS DataFrame\n",
    "    LOCATIONS.loc[LOCATIONS[\"location_name\"] == gene, \"Frequency variants remaining\"] = DATA[gene].shape[0]"
   ]
  },
  {
   "cell_type": "markdown",
   "metadata": {},
   "source": [
    "## Filter by CADD-Phred label"
   ]
  },
  {
   "cell_type": "markdown",
   "metadata": {},
   "source": [
    "We will make use of the CADD_PHRED scores provided by the E! Ensembl Data base to identify variants pf predicted deleteriousness. To acomplish this, we will be identifying and labeling variants using _CADD-10_, _CADD-20_ and _CADD-30_ labels, which represent the top 10%, 1% and 0.1% most deleterious mutations possible in the human genome, respectively."
   ]
  },
  {
   "cell_type": "code",
   "execution_count": 17,
   "metadata": {},
   "outputs": [],
   "source": [
    "# [FOR] each gene in our list of genes to analyse...\n",
    "for gene in LOCATIONS[\"location_name\"].tolist():\n",
    "\n",
    "    # [ASSIGN] a label identifying all variants considered CADD-10 (Top 10% most deleterious SNPs in human genome)\n",
    "    DATA[gene].loc[DATA[gene][\"CADD_PHRED\"] >= 10, \"CADD_Phred_label\"] = \"CADD-10\"\n",
    "\n",
    "    # [ASSIGN] a label identifying all variants considered CADD-20 (Top 1% most deleterious SNPs in human genome)\n",
    "    DATA[gene].loc[DATA[gene][\"CADD_PHRED\"] >= 20, \"CADD_Phred_label\"] = \"CADD-20\"\n",
    "    \n",
    "    # [ASSIGN] a label identifying all variants considered CADD-30 (Top 0.1% most deleterious SNPs in human genome)\n",
    "    DATA[gene].loc[DATA[gene][\"CADD_PHRED\"] >= 30, \"CADD_Phred_label\"] = \"CADD-30\"\n",
    "\n",
    "    # [ASSIGN] the number of alleles identified after our filter to the LOCATIONS DataFrame\n",
    "    LOCATIONS.loc[LOCATIONS[\"location_name\"] == gene, \"CADD Phred variants remaining\"] = DATA[gene].loc[DATA[gene][\"CADD_Phred_label\"].notna()].shape[0]"
   ]
  },
  {
   "cell_type": "markdown",
   "metadata": {},
   "source": [
    "## Filter by Fishers Exact significance"
   ]
  },
  {
   "cell_type": "markdown",
   "metadata": {},
   "source": [
    "Thanks to the Fishers-Exact test with Bonferoni-Correction, executed by the [Pharmacogenetic Analysis Pipeline](https://github.com/Tuks-ICMM/Pharmacogenetic-Analysis-Pipeline), we can identify variants which are observed at significantly different rates in our focus population (African populations), compared to the comparison populations in our study.\n",
    "\n",
    "Here, we will filter for any variants which were found at a significantly different frequency in African samples relative to reference populations."
   ]
  },
  {
   "cell_type": "code",
   "execution_count": 18,
   "metadata": {},
   "outputs": [],
   "source": [
    "# [FOR] each gene in our list of genes analysed\n",
    "for gene in LOCATIONS[\"location_name\"].tolist():\n",
    "    # [ASSIGN] an empty list to use when tallying up filter expressions for all our populations\n",
    "    _significant_fishers_exact_filters = list()\n",
    "\n",
    "    # [FOR] each population in our list of population annotations available for the samples\n",
    "    for population in POPULATIONS_TO_COMPARE:\n",
    "\n",
    "        # (Fishers is always a comparison relative to this reference population so there is no column for it,\n",
    "        # since all other Fishers columns by default use it)\n",
    "        # [IF] the population is not our reference population\n",
    "        if population != \"AFR\":\n",
    "            # [TALLY] all variants which were marked with significant Fishers-Exact results (w/t Bonferoni Correction)\n",
    "            _significant_fishers_exact_filters.append(\n",
    "                f\"{population}_hypothesis_rejection == True\"\n",
    "            )\n",
    "\n",
    "    # [REPLACE] our data with a [QUERY] of all tallied filters describing variants which displayed significantly different frequencies in at least one population\n",
    "    DATA[gene] = DATA[gene].query(\" | \".join(_significant_fishers_exact_filters))\n",
    "\n",
    "    # [ASSIGN] the number of variants with significant inter-population frequency differences to our LOCATIONS table\n",
    "    LOCATIONS.loc[\n",
    "        LOCATIONS[\"location_name\"] == gene, \"Fishers Exact variants remaining\"\n",
    "    ] = DATA[gene].shape[0]"
   ]
  },
  {
   "cell_type": "markdown",
   "metadata": {},
   "source": [
    "## Export Filtered Data"
   ]
  },
  {
   "cell_type": "code",
   "execution_count": 19,
   "metadata": {},
   "outputs": [],
   "source": [
    "# [CHECK] if directory exists, and create if it does not\n",
    "Path(join(\n",
    "        \"/\",\n",
    "        \"mnt\",\n",
    "        \"ICMM_HDD_12TB\",\n",
    "        \"Results_25SEP2024\",\n",
    "        \"cleaned\"\n",
    "        )\n",
    "    ).mkdir(exist_ok=True)"
   ]
  },
  {
   "cell_type": "markdown",
   "metadata": {},
   "source": [
    "We need to keep a reference of all samples which have been identified throughout the above filtering proceses for downstream analysis. Lets export the cleaned data to its own folder for later reference."
   ]
  },
  {
   "cell_type": "code",
   "execution_count": 20,
   "metadata": {
    "tags": [
     "remove_cell"
    ]
   },
   "outputs": [
    {
     "name": "stdout",
     "output_type": "stream",
     "text": [
      "Record count | CYP2B6 : 134\n"
     ]
    },
    {
     "name": "stdout",
     "output_type": "stream",
     "text": [
      "Record count | CYP2C9 : 290\n",
      "Record count | CYP2C19 : 567\n",
      "Record count | CYP2D6 : 48\n",
      "Record count | CYP4F2 : 149\n",
      "Record count | VKORC1 : 13\n",
      "Record count | HLA-A : 288\n",
      "Record count | HLA-B : 2318\n",
      "total Record count | HLA-B : 3807\n"
     ]
    }
   ],
   "source": [
    "_exported_total = 0\n",
    "\n",
    "# [FOR] gene in the list of genes to analyse\n",
    "for gene in LOCATIONS[\"location_name\"].unique().tolist():\n",
    "    print(f\"Record count | {gene} : {DATA[gene].shape[0]}\")\n",
    "    _exported_total += DATA[gene].shape[0]\n",
    "    \n",
    "    # [EXPORT] to csv the filtered list of samples. This should be used on downstream analyses.\n",
    "    DATA[gene].to_csv(\n",
    "        # [COMBINE] function arguments into file-path using OS-apropriate syntax.\n",
    "        join(\n",
    "            \"/\",\n",
    "            \"mnt\",\n",
    "            \"ICMM_HDD_12TB\",\n",
    "            \"Results_25SEP2024\",\n",
    "            \"cleaned\",\n",
    "            f\"super-population_{gene}.csv.zst\",\n",
    "        ),\n",
    "        index=False,\n",
    "    )\n",
    "print(f\"total Record count | {gene} : {_exported_total}\")"
   ]
  },
  {
   "cell_type": "code",
   "execution_count": 21,
   "metadata": {
    "tags": [
     "remove_cell"
    ]
   },
   "outputs": [],
   "source": [
    "# [EXPORT] locations.csv file that has now been annotated with abundance information\n",
    "LOCATIONS.to_csv(\n",
    "    join(\n",
    "        \"/\",\n",
    "        \"mnt\",\n",
    "        \"ICMM_HDD_12TB\",\n",
    "        \"Results_25SEP2024\",\n",
    "        \"cleaned\",\n",
    "        f\"locations.csv.zst\",\n",
    "    ),\n",
    "    index=False,\n",
    ")"
   ]
  },
  {
   "cell_type": "markdown",
   "metadata": {},
   "source": [
    "# General Plots"
   ]
  },
  {
   "cell_type": "markdown",
   "metadata": {},
   "source": [
    "## Variant abundance"
   ]
  },
  {
   "cell_type": "markdown",
   "metadata": {},
   "source": [
    "Mutation rates can vary between gene regions, and is not uniform across the genome. Due to this, certain genes, such as the HLA-A and HLA-B genes in this analysis, are known to be hypervariable. Due to its function as a component of the antigen-presenting apparatus of the immune system, HLA-genes are functionaly reliant on high-variation."
   ]
  },
  {
   "cell_type": "markdown",
   "metadata": {},
   "source": [
    "To properly visualize various different types and subsets of variant abundance, we will first need to calculate a normalized measure of abundance. To do this, we will have to take into account the length of the gene to accurately identify the rate of variation. This can be done by converting the count into a fraction over the genes total length.\n",
    "\n",
    "> It is important to mention, that naturally variable abundance rates will still cause changes in abundance score. The abundance ratio used in this lot simply means that spikes in abundance score will not be caused by gene length."
   ]
  },
  {
   "cell_type": "code",
   "execution_count": 22,
   "metadata": {},
   "outputs": [],
   "source": [
    "# [CALCULATE] the size of the gene region being studied\n",
    "LOCATIONS[\"size\"] = LOCATIONS[\"stop\"] - LOCATIONS[\"start\"]\n",
    "\n",
    "# [CALCULATE] the raw variant abundance ratio before any filters\n",
    "LOCATIONS[\"Raw Abundance\"] = LOCATIONS[\"Total Variants\"] / LOCATIONS[\"size\"]\n",
    "\n",
    "# [CALCULATE] variant Missingness-filter abundance ratio\n",
    "LOCATIONS[\"Missingness filter\"] = (\n",
    "    LOCATIONS[\"Missingness variants remaining\"] - LOCATIONS[\"Total Variants\"]\n",
    ") / LOCATIONS[\"size\"]\n",
    "\n",
    "# [CALCULATE] variant Frequency-filter abundance ratio\n",
    "LOCATIONS[\"Frequency filter\"] = (\n",
    "    LOCATIONS[\"Frequency variants remaining\"]\n",
    "    - LOCATIONS[\"Missingness variants remaining\"]\n",
    ") / LOCATIONS[\"size\"]\n",
    "\n",
    "# [CALCULATE] variant Fishers-Exact abundance ratio\n",
    "LOCATIONS[\"Fishers-Exact filter\"] = (\n",
    "    LOCATIONS[\"Fishers Exact variants remaining\"]\n",
    "    - LOCATIONS[\"Frequency variants remaining\"]\n",
    ") / LOCATIONS[\"size\"]\n",
    "\n",
    "# [CALCULATE] the CADD Phred abundance of variants with deleterious predictions\n",
    "LOCATIONS[\"CADD Phred filter\"] = (\n",
    "    LOCATIONS[\"CADD Phred variants remaining\"]\n",
    "    - LOCATIONS[\"Fishers Exact variants remaining\"]\n",
    ") / LOCATIONS[\"size\"]\n",
    "\n",
    "# Net remaining variants of clinical interest after all filters have been applied.\n",
    "# This column is set to zero, for use when rendering the waterfall plot, to indicate calculation\n",
    "# of the net remaining abundance ratios after filtering.\n",
    "LOCATIONS[\"NET remaining\"] = None\n",
    "\n",
    "\n",
    "# [SORT] genes by size\n",
    "LOCATIONS.sort_values(by=\"size\", inplace=True, ascending=False)"
   ]
  },
  {
   "cell_type": "code",
   "execution_count": 23,
   "metadata": {},
   "outputs": [
    {
     "data": {
      "text/html": [
       "<div>\n",
       "<style scoped>\n",
       "    .dataframe tbody tr th:only-of-type {\n",
       "        vertical-align: middle;\n",
       "    }\n",
       "\n",
       "    .dataframe tbody tr th {\n",
       "        vertical-align: top;\n",
       "    }\n",
       "\n",
       "    .dataframe thead th {\n",
       "        text-align: right;\n",
       "    }\n",
       "</style>\n",
       "<table border=\"1\" class=\"dataframe\">\n",
       "  <thead>\n",
       "    <tr style=\"text-align: right;\">\n",
       "      <th></th>\n",
       "      <th>location_name</th>\n",
       "      <th>chromosome</th>\n",
       "      <th>start</th>\n",
       "      <th>stop</th>\n",
       "      <th>strand</th>\n",
       "      <th>ld_start</th>\n",
       "      <th>ld_stop</th>\n",
       "      <th>Total Variants</th>\n",
       "      <th>Missingness variants remaining</th>\n",
       "      <th>Frequency variants remaining</th>\n",
       "      <th>CADD Phred variants remaining</th>\n",
       "      <th>Fishers Exact variants remaining</th>\n",
       "      <th>size</th>\n",
       "      <th>Raw Abundance</th>\n",
       "      <th>Missingness filter</th>\n",
       "      <th>Frequency filter</th>\n",
       "      <th>Fishers-Exact filter</th>\n",
       "      <th>CADD Phred filter</th>\n",
       "      <th>NET remaining</th>\n",
       "    </tr>\n",
       "  </thead>\n",
       "  <tbody>\n",
       "    <tr>\n",
       "      <th>2</th>\n",
       "      <td>CYP2C19</td>\n",
       "      <td>10</td>\n",
       "      <td>94762681</td>\n",
       "      <td>94855547</td>\n",
       "      <td>1</td>\n",
       "      <td>92300001</td>\n",
       "      <td>95300000</td>\n",
       "      <td>6081.0</td>\n",
       "      <td>5990.0</td>\n",
       "      <td>646.0</td>\n",
       "      <td>9.0</td>\n",
       "      <td>567.0</td>\n",
       "      <td>92866</td>\n",
       "      <td>0.065481</td>\n",
       "      <td>-0.000980</td>\n",
       "      <td>-0.057545</td>\n",
       "      <td>-0.000851</td>\n",
       "      <td>-0.006009</td>\n",
       "      <td>None</td>\n",
       "    </tr>\n",
       "    <tr>\n",
       "      <th>7</th>\n",
       "      <td>HLA-B</td>\n",
       "      <td>6</td>\n",
       "      <td>31269491</td>\n",
       "      <td>31357188</td>\n",
       "      <td>-1</td>\n",
       "      <td>30500001</td>\n",
       "      <td>32100000</td>\n",
       "      <td>6980.0</td>\n",
       "      <td>5148.0</td>\n",
       "      <td>2461.0</td>\n",
       "      <td>417.0</td>\n",
       "      <td>2318.0</td>\n",
       "      <td>87697</td>\n",
       "      <td>0.079592</td>\n",
       "      <td>-0.020890</td>\n",
       "      <td>-0.030640</td>\n",
       "      <td>-0.001631</td>\n",
       "      <td>-0.021677</td>\n",
       "      <td>None</td>\n",
       "    </tr>\n",
       "    <tr>\n",
       "      <th>1</th>\n",
       "      <td>CYP2C9</td>\n",
       "      <td>10</td>\n",
       "      <td>94938658</td>\n",
       "      <td>94990091</td>\n",
       "      <td>1</td>\n",
       "      <td>92300001</td>\n",
       "      <td>95300000</td>\n",
       "      <td>2885.0</td>\n",
       "      <td>2837.0</td>\n",
       "      <td>318.0</td>\n",
       "      <td>8.0</td>\n",
       "      <td>290.0</td>\n",
       "      <td>51433</td>\n",
       "      <td>0.056092</td>\n",
       "      <td>-0.000933</td>\n",
       "      <td>-0.048976</td>\n",
       "      <td>-0.000544</td>\n",
       "      <td>-0.005483</td>\n",
       "      <td>None</td>\n",
       "    </tr>\n",
       "    <tr>\n",
       "      <th>0</th>\n",
       "      <td>CYP2B6</td>\n",
       "      <td>19</td>\n",
       "      <td>40991282</td>\n",
       "      <td>41018398</td>\n",
       "      <td>1</td>\n",
       "      <td>38200001</td>\n",
       "      <td>42900000</td>\n",
       "      <td>1967.0</td>\n",
       "      <td>1881.0</td>\n",
       "      <td>165.0</td>\n",
       "      <td>7.0</td>\n",
       "      <td>134.0</td>\n",
       "      <td>27116</td>\n",
       "      <td>0.072540</td>\n",
       "      <td>-0.003172</td>\n",
       "      <td>-0.063284</td>\n",
       "      <td>-0.001143</td>\n",
       "      <td>-0.004684</td>\n",
       "      <td>None</td>\n",
       "    </tr>\n",
       "    <tr>\n",
       "      <th>4</th>\n",
       "      <td>CYP4F2</td>\n",
       "      <td>19</td>\n",
       "      <td>15878023</td>\n",
       "      <td>15898077</td>\n",
       "      <td>-1</td>\n",
       "      <td>13800001</td>\n",
       "      <td>16100000</td>\n",
       "      <td>983.0</td>\n",
       "      <td>944.0</td>\n",
       "      <td>159.0</td>\n",
       "      <td>11.0</td>\n",
       "      <td>149.0</td>\n",
       "      <td>20054</td>\n",
       "      <td>0.049018</td>\n",
       "      <td>-0.001945</td>\n",
       "      <td>-0.039144</td>\n",
       "      <td>-0.000499</td>\n",
       "      <td>-0.006881</td>\n",
       "      <td>None</td>\n",
       "    </tr>\n",
       "    <tr>\n",
       "      <th>5</th>\n",
       "      <td>VKORC1</td>\n",
       "      <td>16</td>\n",
       "      <td>31090854</td>\n",
       "      <td>31095980</td>\n",
       "      <td>-1</td>\n",
       "      <td>28500001</td>\n",
       "      <td>35300000</td>\n",
       "      <td>187.0</td>\n",
       "      <td>184.0</td>\n",
       "      <td>16.0</td>\n",
       "      <td>3.0</td>\n",
       "      <td>13.0</td>\n",
       "      <td>5126</td>\n",
       "      <td>0.036481</td>\n",
       "      <td>-0.000585</td>\n",
       "      <td>-0.032774</td>\n",
       "      <td>-0.000585</td>\n",
       "      <td>-0.001951</td>\n",
       "      <td>None</td>\n",
       "    </tr>\n",
       "    <tr>\n",
       "      <th>6</th>\n",
       "      <td>HLA-A</td>\n",
       "      <td>6</td>\n",
       "      <td>29941260</td>\n",
       "      <td>29945884</td>\n",
       "      <td>1</td>\n",
       "      <td>27100001</td>\n",
       "      <td>30500000</td>\n",
       "      <td>614.0</td>\n",
       "      <td>489.0</td>\n",
       "      <td>303.0</td>\n",
       "      <td>79.0</td>\n",
       "      <td>288.0</td>\n",
       "      <td>4624</td>\n",
       "      <td>0.132785</td>\n",
       "      <td>-0.027033</td>\n",
       "      <td>-0.040225</td>\n",
       "      <td>-0.003244</td>\n",
       "      <td>-0.045199</td>\n",
       "      <td>None</td>\n",
       "    </tr>\n",
       "    <tr>\n",
       "      <th>3</th>\n",
       "      <td>CYP2D6</td>\n",
       "      <td>22</td>\n",
       "      <td>42126499</td>\n",
       "      <td>42130881</td>\n",
       "      <td>-1</td>\n",
       "      <td>40600001</td>\n",
       "      <td>43800000</td>\n",
       "      <td>435.0</td>\n",
       "      <td>428.0</td>\n",
       "      <td>56.0</td>\n",
       "      <td>18.0</td>\n",
       "      <td>48.0</td>\n",
       "      <td>4382</td>\n",
       "      <td>0.099270</td>\n",
       "      <td>-0.001597</td>\n",
       "      <td>-0.084893</td>\n",
       "      <td>-0.001826</td>\n",
       "      <td>-0.006846</td>\n",
       "      <td>None</td>\n",
       "    </tr>\n",
       "  </tbody>\n",
       "</table>\n",
       "</div>"
      ],
      "text/plain": [
       "  location_name  chromosome     start      stop  strand  ld_start   ld_stop  \\\n",
       "2       CYP2C19          10  94762681  94855547       1  92300001  95300000   \n",
       "7         HLA-B           6  31269491  31357188      -1  30500001  32100000   \n",
       "1        CYP2C9          10  94938658  94990091       1  92300001  95300000   \n",
       "0        CYP2B6          19  40991282  41018398       1  38200001  42900000   \n",
       "4        CYP4F2          19  15878023  15898077      -1  13800001  16100000   \n",
       "5        VKORC1          16  31090854  31095980      -1  28500001  35300000   \n",
       "6         HLA-A           6  29941260  29945884       1  27100001  30500000   \n",
       "3        CYP2D6          22  42126499  42130881      -1  40600001  43800000   \n",
       "\n",
       "   Total Variants  Missingness variants remaining  \\\n",
       "2          6081.0                          5990.0   \n",
       "7          6980.0                          5148.0   \n",
       "1          2885.0                          2837.0   \n",
       "0          1967.0                          1881.0   \n",
       "4           983.0                           944.0   \n",
       "5           187.0                           184.0   \n",
       "6           614.0                           489.0   \n",
       "3           435.0                           428.0   \n",
       "\n",
       "   Frequency variants remaining  CADD Phred variants remaining  \\\n",
       "2                         646.0                            9.0   \n",
       "7                        2461.0                          417.0   \n",
       "1                         318.0                            8.0   \n",
       "0                         165.0                            7.0   \n",
       "4                         159.0                           11.0   \n",
       "5                          16.0                            3.0   \n",
       "6                         303.0                           79.0   \n",
       "3                          56.0                           18.0   \n",
       "\n",
       "   Fishers Exact variants remaining   size  Raw Abundance  Missingness filter  \\\n",
       "2                             567.0  92866       0.065481           -0.000980   \n",
       "7                            2318.0  87697       0.079592           -0.020890   \n",
       "1                             290.0  51433       0.056092           -0.000933   \n",
       "0                             134.0  27116       0.072540           -0.003172   \n",
       "4                             149.0  20054       0.049018           -0.001945   \n",
       "5                              13.0   5126       0.036481           -0.000585   \n",
       "6                             288.0   4624       0.132785           -0.027033   \n",
       "3                              48.0   4382       0.099270           -0.001597   \n",
       "\n",
       "   Frequency filter  Fishers-Exact filter  CADD Phred filter NET remaining  \n",
       "2         -0.057545             -0.000851          -0.006009          None  \n",
       "7         -0.030640             -0.001631          -0.021677          None  \n",
       "1         -0.048976             -0.000544          -0.005483          None  \n",
       "0         -0.063284             -0.001143          -0.004684          None  \n",
       "4         -0.039144             -0.000499          -0.006881          None  \n",
       "5         -0.032774             -0.000585          -0.001951          None  \n",
       "6         -0.040225             -0.003244          -0.045199          None  \n",
       "3         -0.084893             -0.001826          -0.006846          None  "
      ]
     },
     "execution_count": 23,
     "metadata": {},
     "output_type": "execute_result"
    }
   ],
   "source": [
    "LOCATIONS"
   ]
  },
  {
   "cell_type": "markdown",
   "metadata": {},
   "source": [
    "Now lets graph the relative variant abundance. For this, I would like to visualise the drop in abundance as we apply each filter to our raw dataset. This will help illustrate where we loose variants, and help explain why."
   ]
  },
  {
   "cell_type": "code",
   "execution_count": 24,
   "metadata": {},
   "outputs": [
    {
     "data": {
      "text/html": [
       "        <script type=\"text/javascript\">\n",
       "        window.PlotlyConfig = {MathJaxConfig: 'local'};\n",
       "        if (window.MathJax && window.MathJax.Hub && window.MathJax.Hub.Config) {window.MathJax.Hub.Config({SVG: {font: \"STIX-Web\"}});}\n",
       "        if (typeof require !== 'undefined') {\n",
       "        require.undef(\"plotly\");\n",
       "        requirejs.config({\n",
       "            paths: {\n",
       "                'plotly': ['https://cdn.plot.ly/plotly-2.35.2.min']\n",
       "            }\n",
       "        });\n",
       "        require(['plotly'], function(Plotly) {\n",
       "            window._Plotly = Plotly;\n",
       "        });\n",
       "        }\n",
       "        </script>\n",
       "        "
      ]
     },
     "metadata": {},
     "output_type": "display_data"
    },
    {
     "data": {
      "application/pdf": "[encoded data removed]",
      "text/html": [
       "<div>                            <div id=\"b93b02c3-c0a9-4ce1-9930-b58461c13bb2\" class=\"plotly-graph-div\" style=\"height:525px; width:100%;\"></div>            <script type=\"text/javascript\">                require([\"plotly\"], function(Plotly) {                    window.PLOTLYENV=window.PLOTLYENV || {};                                    if (document.getElementById(\"b93b02c3-c0a9-4ce1-9930-b58461c13bb2\")) {                    Plotly.newPlot(                        \"b93b02c3-c0a9-4ce1-9930-b58461c13bb2\",                        [{\"connector\":{\"line\":{\"width\":1},\"mode\":\"spanning\"},\"constraintext\":\"inside\",\"measure\":[\"absolute\",\"relative\",\"relative\",\"relative\",\"relative\",\"total\"],\"name\":\"CYP2C19\",\"outsidetextfont\":{\"size\":1,\"textcase\":\"upper\"},\"text\":\"CYP2C19\",\"texttemplate\":\"%{text} | %{delta:.2f}\",\"x\":[\"Raw Abundance\",\"Missingness filter\",\"Frequency filter\",\"Fishers-Exact filter\",\"CADD Phred filter\",\"NET remaining\"],\"y\":[0.06548144638511404,-0.000979906531992333,-0.05754528029634096,-0.0008506880882131242,-0.006008657635733207,null],\"type\":\"waterfall\"},{\"connector\":{\"line\":{\"width\":1},\"mode\":\"spanning\"},\"constraintext\":\"inside\",\"measure\":[\"absolute\",\"relative\",\"relative\",\"relative\",\"relative\",\"total\"],\"name\":\"HLA-B\",\"outsidetextfont\":{\"size\":1,\"textcase\":\"upper\"},\"text\":\"HLA-B\",\"texttemplate\":\"%{text} | %{delta:.2f}\",\"x\":[\"Raw Abundance\",\"Missingness filter\",\"Frequency filter\",\"Fishers-Exact filter\",\"CADD Phred filter\",\"NET remaining\"],\"y\":[0.07959223234546221,-0.020890110266029625,-0.030639588583417903,-0.001630614502206461,-0.021676910270590783,null],\"type\":\"waterfall\"},{\"connector\":{\"line\":{\"width\":1},\"mode\":\"spanning\"},\"constraintext\":\"inside\",\"measure\":[\"absolute\",\"relative\",\"relative\",\"relative\",\"relative\",\"total\"],\"name\":\"CYP2C9\",\"outsidetextfont\":{\"size\":1,\"textcase\":\"upper\"},\"text\":\"CYP2C9\",\"texttemplate\":\"%{text} | %{delta:.2f}\",\"x\":[\"Raw Abundance\",\"Missingness filter\",\"Frequency filter\",\"Fishers-Exact filter\",\"CADD Phred filter\",\"NET remaining\"],\"y\":[0.05609239204401843,-0.0009332529698831489,-0.04897633814865942,-0.0005443975657651702,-0.0054828611980635,null],\"type\":\"waterfall\"},{\"connector\":{\"line\":{\"width\":1},\"mode\":\"spanning\"},\"constraintext\":\"inside\",\"measure\":[\"absolute\",\"relative\",\"relative\",\"relative\",\"relative\",\"total\"],\"name\":\"CYP2B6\",\"outsidetextfont\":{\"size\":1,\"textcase\":\"upper\"},\"text\":\"CYP2B6\",\"texttemplate\":\"%{text} | %{delta:.2f}\",\"x\":[\"Raw Abundance\",\"Missingness filter\",\"Frequency filter\",\"Fishers-Exact filter\",\"CADD Phred filter\",\"NET remaining\"],\"y\":[0.07254019766927275,-0.0031715592270246348,-0.0632836701578404,-0.0011432364655553917,-0.004683581649210798,null],\"type\":\"waterfall\"},{\"connector\":{\"line\":{\"width\":1},\"mode\":\"spanning\"},\"constraintext\":\"inside\",\"measure\":[\"absolute\",\"relative\",\"relative\",\"relative\",\"relative\",\"total\"],\"name\":\"CYP4F2\",\"outsidetextfont\":{\"size\":1,\"textcase\":\"upper\"},\"text\":\"CYP4F2\",\"texttemplate\":\"%{text} | %{delta:.2f}\",\"x\":[\"Raw Abundance\",\"Missingness filter\",\"Frequency filter\",\"Fishers-Exact filter\",\"CADD Phred filter\",\"NET remaining\"],\"y\":[0.04901765233868555,-0.001944749177221502,-0.03914431036202254,-0.0004986536351850005,-0.006881420165553007,null],\"type\":\"waterfall\"},{\"connector\":{\"line\":{\"width\":1},\"mode\":\"spanning\"},\"constraintext\":\"inside\",\"measure\":[\"absolute\",\"relative\",\"relative\",\"relative\",\"relative\",\"total\"],\"name\":\"VKORC1\",\"outsidetextfont\":{\"size\":1,\"textcase\":\"upper\"},\"text\":\"VKORC1\",\"texttemplate\":\"%{text} | %{delta:.2f}\",\"x\":[\"Raw Abundance\",\"Missingness filter\",\"Frequency filter\",\"Fishers-Exact filter\",\"CADD Phred filter\",\"NET remaining\"],\"y\":[0.03648068669527897,-0.0005852516582130316,-0.03277409285992977,-0.0005852516582130316,-0.0019508388607101053,null],\"type\":\"waterfall\"},{\"connector\":{\"line\":{\"width\":1},\"mode\":\"spanning\"},\"constraintext\":\"inside\",\"measure\":[\"absolute\",\"relative\",\"relative\",\"relative\",\"relative\",\"total\"],\"name\":\"HLA-A\",\"outsidetextfont\":{\"size\":1,\"textcase\":\"upper\"},\"text\":\"HLA-A\",\"texttemplate\":\"%{text} | %{delta:.2f}\",\"x\":[\"Raw Abundance\",\"Missingness filter\",\"Frequency filter\",\"Fishers-Exact filter\",\"CADD Phred filter\",\"NET remaining\"],\"y\":[0.1327854671280277,-0.02703287197231834,-0.04022491349480969,-0.0032439446366782005,-0.04519896193771626,null],\"type\":\"waterfall\"},{\"connector\":{\"line\":{\"width\":1},\"mode\":\"spanning\"},\"constraintext\":\"inside\",\"measure\":[\"absolute\",\"relative\",\"relative\",\"relative\",\"relative\",\"total\"],\"name\":\"CYP2D6\",\"outsidetextfont\":{\"size\":1,\"textcase\":\"upper\"},\"text\":\"CYP2D6\",\"texttemplate\":\"%{text} | %{delta:.2f}\",\"x\":[\"Raw Abundance\",\"Missingness filter\",\"Frequency filter\",\"Fishers-Exact filter\",\"CADD Phred filter\",\"NET remaining\"],\"y\":[0.09926973984481972,-0.001597444089456869,-0.0848927430397079,-0.0018256503879507074,-0.006846188954815153,null],\"type\":\"waterfall\"}],                        {\"template\":{\"data\":{\"histogram2dcontour\":[{\"type\":\"histogram2dcontour\",\"colorbar\":{\"outlinewidth\":0,\"ticks\":\"\"},\"colorscale\":[[0.0,\"#0d0887\"],[0.1111111111111111,\"#46039f\"],[0.2222222222222222,\"#7201a8\"],[0.3333333333333333,\"#9c179e\"],[0.4444444444444444,\"#bd3786\"],[0.5555555555555556,\"#d8576b\"],[0.6666666666666666,\"#ed7953\"],[0.7777777777777778,\"#fb9f3a\"],[0.8888888888888888,\"#fdca26\"],[1.0,\"#f0f921\"]]}],\"choropleth\":[{\"type\":\"choropleth\",\"colorbar\":{\"outlinewidth\":0,\"ticks\":\"\"}}],\"histogram2d\":[{\"type\":\"histogram2d\",\"colorbar\":{\"outlinewidth\":0,\"ticks\":\"\"},\"colorscale\":[[0.0,\"#0d0887\"],[0.1111111111111111,\"#46039f\"],[0.2222222222222222,\"#7201a8\"],[0.3333333333333333,\"#9c179e\"],[0.4444444444444444,\"#bd3786\"],[0.5555555555555556,\"#d8576b\"],[0.6666666666666666,\"#ed7953\"],[0.7777777777777778,\"#fb9f3a\"],[0.8888888888888888,\"#fdca26\"],[1.0,\"#f0f921\"]]}],\"heatmap\":[{\"type\":\"heatmap\",\"colorbar\":{\"outlinewidth\":0,\"ticks\":\"\"},\"colorscale\":[[0.0,\"#0d0887\"],[0.1111111111111111,\"#46039f\"],[0.2222222222222222,\"#7201a8\"],[0.3333333333333333,\"#9c179e\"],[0.4444444444444444,\"#bd3786\"],[0.5555555555555556,\"#d8576b\"],[0.6666666666666666,\"#ed7953\"],[0.7777777777777778,\"#fb9f3a\"],[0.8888888888888888,\"#fdca26\"],[1.0,\"#f0f921\"]]}],\"heatmapgl\":[{\"type\":\"heatmapgl\",\"colorbar\":{\"outlinewidth\":0,\"ticks\":\"\"},\"colorscale\":[[0.0,\"#0d0887\"],[0.1111111111111111,\"#46039f\"],[0.2222222222222222,\"#7201a8\"],[0.3333333333333333,\"#9c179e\"],[0.4444444444444444,\"#bd3786\"],[0.5555555555555556,\"#d8576b\"],[0.6666666666666666,\"#ed7953\"],[0.7777777777777778,\"#fb9f3a\"],[0.8888888888888888,\"#fdca26\"],[1.0,\"#f0f921\"]]}],\"contourcarpet\":[{\"type\":\"contourcarpet\",\"colorbar\":{\"outlinewidth\":0,\"ticks\":\"\"}}],\"contour\":[{\"type\":\"contour\",\"colorbar\":{\"outlinewidth\":0,\"ticks\":\"\"},\"colorscale\":[[0.0,\"#0d0887\"],[0.1111111111111111,\"#46039f\"],[0.2222222222222222,\"#7201a8\"],[0.3333333333333333,\"#9c179e\"],[0.4444444444444444,\"#bd3786\"],[0.5555555555555556,\"#d8576b\"],[0.6666666666666666,\"#ed7953\"],[0.7777777777777778,\"#fb9f3a\"],[0.8888888888888888,\"#fdca26\"],[1.0,\"#f0f921\"]]}],\"surface\":[{\"type\":\"surface\",\"colorbar\":{\"outlinewidth\":0,\"ticks\":\"\"},\"colorscale\":[[0.0,\"#0d0887\"],[0.1111111111111111,\"#46039f\"],[0.2222222222222222,\"#7201a8\"],[0.3333333333333333,\"#9c179e\"],[0.4444444444444444,\"#bd3786\"],[0.5555555555555556,\"#d8576b\"],[0.6666666666666666,\"#ed7953\"],[0.7777777777777778,\"#fb9f3a\"],[0.8888888888888888,\"#fdca26\"],[1.0,\"#f0f921\"]]}],\"mesh3d\":[{\"type\":\"mesh3d\",\"colorbar\":{\"outlinewidth\":0,\"ticks\":\"\"}}],\"scatter\":[{\"fillpattern\":{\"fillmode\":\"overlay\",\"size\":10,\"solidity\":0.2},\"type\":\"scatter\"}],\"parcoords\":[{\"type\":\"parcoords\",\"line\":{\"colorbar\":{\"outlinewidth\":0,\"ticks\":\"\"}}}],\"scatterpolargl\":[{\"type\":\"scatterpolargl\",\"marker\":{\"colorbar\":{\"outlinewidth\":0,\"ticks\":\"\"}}}],\"bar\":[{\"error_x\":{\"color\":\"#2a3f5f\"},\"error_y\":{\"color\":\"#2a3f5f\"},\"marker\":{\"line\":{\"color\":\"#E5ECF6\",\"width\":0.5},\"pattern\":{\"fillmode\":\"overlay\",\"size\":10,\"solidity\":0.2}},\"type\":\"bar\"}],\"scattergeo\":[{\"type\":\"scattergeo\",\"marker\":{\"colorbar\":{\"outlinewidth\":0,\"ticks\":\"\"}}}],\"scatterpolar\":[{\"type\":\"scatterpolar\",\"marker\":{\"colorbar\":{\"outlinewidth\":0,\"ticks\":\"\"}}}],\"histogram\":[{\"marker\":{\"pattern\":{\"fillmode\":\"overlay\",\"size\":10,\"solidity\":0.2}},\"type\":\"histogram\"}],\"scattergl\":[{\"type\":\"scattergl\",\"marker\":{\"colorbar\":{\"outlinewidth\":0,\"ticks\":\"\"}}}],\"scatter3d\":[{\"type\":\"scatter3d\",\"line\":{\"colorbar\":{\"outlinewidth\":0,\"ticks\":\"\"}},\"marker\":{\"colorbar\":{\"outlinewidth\":0,\"ticks\":\"\"}}}],\"scattermapbox\":[{\"type\":\"scattermapbox\",\"marker\":{\"colorbar\":{\"outlinewidth\":0,\"ticks\":\"\"}}}],\"scatterternary\":[{\"type\":\"scatterternary\",\"marker\":{\"colorbar\":{\"outlinewidth\":0,\"ticks\":\"\"}}}],\"scattercarpet\":[{\"type\":\"scattercarpet\",\"marker\":{\"colorbar\":{\"outlinewidth\":0,\"ticks\":\"\"}}}],\"carpet\":[{\"aaxis\":{\"endlinecolor\":\"#2a3f5f\",\"gridcolor\":\"white\",\"linecolor\":\"white\",\"minorgridcolor\":\"white\",\"startlinecolor\":\"#2a3f5f\"},\"baxis\":{\"endlinecolor\":\"#2a3f5f\",\"gridcolor\":\"white\",\"linecolor\":\"white\",\"minorgridcolor\":\"white\",\"startlinecolor\":\"#2a3f5f\"},\"type\":\"carpet\"}],\"table\":[{\"cells\":{\"fill\":{\"color\":\"#EBF0F8\"},\"line\":{\"color\":\"white\"}},\"header\":{\"fill\":{\"color\":\"#C8D4E3\"},\"line\":{\"color\":\"white\"}},\"type\":\"table\"}],\"barpolar\":[{\"marker\":{\"line\":{\"color\":\"#E5ECF6\",\"width\":0.5},\"pattern\":{\"fillmode\":\"overlay\",\"size\":10,\"solidity\":0.2}},\"type\":\"barpolar\"}],\"pie\":[{\"automargin\":true,\"type\":\"pie\"}]},\"layout\":{\"autotypenumbers\":\"strict\",\"colorway\":[\"#636efa\",\"#EF553B\",\"#00cc96\",\"#ab63fa\",\"#FFA15A\",\"#19d3f3\",\"#FF6692\",\"#B6E880\",\"#FF97FF\",\"#FECB52\"],\"font\":{\"color\":\"#2a3f5f\"},\"hovermode\":\"closest\",\"hoverlabel\":{\"align\":\"left\"},\"paper_bgcolor\":\"white\",\"plot_bgcolor\":\"#E5ECF6\",\"polar\":{\"bgcolor\":\"#E5ECF6\",\"angularaxis\":{\"gridcolor\":\"white\",\"linecolor\":\"white\",\"ticks\":\"\"},\"radialaxis\":{\"gridcolor\":\"white\",\"linecolor\":\"white\",\"ticks\":\"\"}},\"ternary\":{\"bgcolor\":\"#E5ECF6\",\"aaxis\":{\"gridcolor\":\"white\",\"linecolor\":\"white\",\"ticks\":\"\"},\"baxis\":{\"gridcolor\":\"white\",\"linecolor\":\"white\",\"ticks\":\"\"},\"caxis\":{\"gridcolor\":\"white\",\"linecolor\":\"white\",\"ticks\":\"\"}},\"coloraxis\":{\"colorbar\":{\"outlinewidth\":0,\"ticks\":\"\"}},\"colorscale\":{\"sequential\":[[0.0,\"#0d0887\"],[0.1111111111111111,\"#46039f\"],[0.2222222222222222,\"#7201a8\"],[0.3333333333333333,\"#9c179e\"],[0.4444444444444444,\"#bd3786\"],[0.5555555555555556,\"#d8576b\"],[0.6666666666666666,\"#ed7953\"],[0.7777777777777778,\"#fb9f3a\"],[0.8888888888888888,\"#fdca26\"],[1.0,\"#f0f921\"]],\"sequentialminus\":[[0.0,\"#0d0887\"],[0.1111111111111111,\"#46039f\"],[0.2222222222222222,\"#7201a8\"],[0.3333333333333333,\"#9c179e\"],[0.4444444444444444,\"#bd3786\"],[0.5555555555555556,\"#d8576b\"],[0.6666666666666666,\"#ed7953\"],[0.7777777777777778,\"#fb9f3a\"],[0.8888888888888888,\"#fdca26\"],[1.0,\"#f0f921\"]],\"diverging\":[[0,\"#8e0152\"],[0.1,\"#c51b7d\"],[0.2,\"#de77ae\"],[0.3,\"#f1b6da\"],[0.4,\"#fde0ef\"],[0.5,\"#f7f7f7\"],[0.6,\"#e6f5d0\"],[0.7,\"#b8e186\"],[0.8,\"#7fbc41\"],[0.9,\"#4d9221\"],[1,\"#276419\"]]},\"xaxis\":{\"gridcolor\":\"white\",\"linecolor\":\"white\",\"ticks\":\"\",\"title\":{\"standoff\":15},\"zerolinecolor\":\"white\",\"automargin\":true,\"zerolinewidth\":2},\"yaxis\":{\"gridcolor\":\"white\",\"linecolor\":\"white\",\"ticks\":\"\",\"title\":{\"standoff\":15},\"zerolinecolor\":\"white\",\"automargin\":true,\"zerolinewidth\":2},\"scene\":{\"xaxis\":{\"backgroundcolor\":\"#E5ECF6\",\"gridcolor\":\"white\",\"linecolor\":\"white\",\"showbackground\":true,\"ticks\":\"\",\"zerolinecolor\":\"white\",\"gridwidth\":2},\"yaxis\":{\"backgroundcolor\":\"#E5ECF6\",\"gridcolor\":\"white\",\"linecolor\":\"white\",\"showbackground\":true,\"ticks\":\"\",\"zerolinecolor\":\"white\",\"gridwidth\":2},\"zaxis\":{\"backgroundcolor\":\"#E5ECF6\",\"gridcolor\":\"white\",\"linecolor\":\"white\",\"showbackground\":true,\"ticks\":\"\",\"zerolinecolor\":\"white\",\"gridwidth\":2}},\"shapedefaults\":{\"line\":{\"color\":\"#2a3f5f\"}},\"annotationdefaults\":{\"arrowcolor\":\"#2a3f5f\",\"arrowhead\":0,\"arrowwidth\":1},\"geo\":{\"bgcolor\":\"white\",\"landcolor\":\"#E5ECF6\",\"subunitcolor\":\"white\",\"showland\":true,\"showlakes\":true,\"lakecolor\":\"white\"},\"title\":{\"x\":0.05},\"mapbox\":{\"style\":\"light\"}}},\"yaxis\":{\"type\":\"log\"},\"title\":{\"text\":\"Variant filters and abundance\"},\"waterfallgroupgap\":0.1},                        {\"responsive\": true}                    ).then(function(){\n",
       "                            \n",
       "var gd = document.getElementById('b93b02c3-c0a9-4ce1-9930-b58461c13bb2');\n",
       "var x = new MutationObserver(function (mutations, observer) {{\n",
       "        var display = window.getComputedStyle(gd).display;\n",
       "        if (!display || display === 'none') {{\n",
       "            console.log([gd, 'removed!']);\n",
       "            Plotly.purge(gd);\n",
       "            observer.disconnect();\n",
       "        }}\n",
       "}});\n",
       "\n",
       "// Listen for the removal of the full notebook cells\n",
       "var notebookContainer = gd.closest('#notebook-container');\n",
       "if (notebookContainer) {{\n",
       "    x.observe(notebookContainer, {childList: true});\n",
       "}}\n",
       "\n",
       "// Listen for the clearing of the current output cell\n",
       "var outputEl = gd.closest('.output');\n",
       "if (outputEl) {{\n",
       "    x.observe(outputEl, {childList: true});\n",
       "}}\n",
       "\n",
       "                        })                };                });            </script>        </div>"
      ]
     },
     "metadata": {},
     "output_type": "display_data"
    }
   ],
   "source": [
    "PLOT[None][\"Allele abundance\"] = Figure()\n",
    "TMP = melt(\n",
    "    LOCATIONS,\n",
    "    id_vars=\"location_name\",\n",
    "    value_vars=[\n",
    "        \"Raw Abundance\",\n",
    "        \"Missingness filter\",\n",
    "        \"Frequency filter\",\n",
    "        \"Fishers-Exact filter\",\n",
    "        \"CADD Phred filter\",\n",
    "        \"NET remaining\"\n",
    "    ],\n",
    "    value_name=\"Abundance\",\n",
    "    var_name=\"Filter Type\",\n",
    ")\n",
    "\n",
    "TMP.loc[TMP[\"Filter Type\"] == \"NET remaining\", \"Measure Type\"] = \"total\"\n",
    "TMP.loc[TMP[\"Filter Type\"] == \"Raw Abundance\", \"Measure Type\"] = \"absolute\"\n",
    "TMP.loc[(TMP[\"Filter Type\"] != \"NET remaining\") & (TMP[\"Filter Type\"] != \"Raw Abundance\"), \"Measure Type\"] = \"relative\"\n",
    "\n",
    "for gene in TMP[\"location_name\"].unique().tolist():\n",
    "    TMP1 = TMP[TMP[\"location_name\"] == gene]\n",
    "    PLOT[None][\"Allele abundance\"].add_trace(\n",
    "        Waterfall(\n",
    "            name=gene,\n",
    "            measure=TMP1[\"Measure Type\"],\n",
    "            x=TMP1[\"Filter Type\"],\n",
    "            y=TMP1[\"Abundance\"],\n",
    "            text=gene,\n",
    "            constraintext=\"inside\",\n",
    "            # textposition=\"inside\",\n",
    "            outsidetextfont={\"size\": 1, \"textcase\": \"upper\"},\n",
    "            # textinfo=\"text+delta\",\n",
    "            texttemplate=\"%{text} | %{delta:.2f}\",\n",
    "            # textinfo=\"delta\",\n",
    "            connector={\"mode\": \"spanning\", \"line\": {\"width\": 1}},\n",
    "        )\n",
    "    )\n",
    "    \n",
    "PLOT[None][\"Allele abundance\"].update_yaxes(type = 'log')\n",
    "PLOT[None][\"Allele abundance\"].update_layout(title_text=\"Variant filters and abundance\", \n",
    "    waterfallgroupgap = 0.1)\n",
    "PLOT[None][\"Allele abundance\"].show()\n",
    "# TODO: Filter TMP to gene-specific and add waterfall trace iteratively"
   ]
  },
  {
   "cell_type": "markdown",
   "metadata": {},
   "source": [
    "# Export Plots"
   ]
  },
  {
   "cell_type": "code",
   "execution_count": 28,
   "metadata": {},
   "outputs": [],
   "source": [
    "# [CHECK] if directory exists, and create if it does not\n",
    "Path(join(path, \"Graphs\", \"01\")).mkdir(exist_ok=True, parents = True)"
   ]
  },
  {
   "cell_type": "code",
   "execution_count": 29,
   "metadata": {
    "tags": [
     "no-input"
    ]
   },
   "outputs": [],
   "source": [
    "PLOT[None][\"Allele abundance\"].write_image(join(path, \"Graphs\", \"01\", \"allele_abundance.jpeg\"))"
   ]
  }
 ],
 "metadata": {
  "authors": [
   {
    "name": "Graeme R. Ford"
   }
  ],
  "kernelspec": {
   "display_name": "Graphing",
   "language": "python",
   "name": "python3"
  },
  "language_info": {
   "codemirror_mode": {
    "name": "ipython",
    "version": 3
   },
   "file_extension": ".py",
   "mimetype": "text/x-python",
   "name": "python",
   "nbconvert_exporter": "python",
   "pygments_lexer": "ipython3",
   "version": "3.12.6"
  }
 },
 "nbformat": 4,
 "nbformat_minor": 2
}
